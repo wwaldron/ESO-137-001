{
 "cells": [
  {
   "cell_type": "markdown",
   "id": "272a791d-5edd-4758-b52c-dacbe788af66",
   "metadata": {},
   "source": [
    "# ESO 137-001 Image Downloader"
   ]
  },
  {
   "cell_type": "markdown",
   "id": "c2420301-3281-43d8-a9a4-b3dc0265d0d7",
   "metadata": {},
   "source": [
    "## Imports"
   ]
  },
  {
   "cell_type": "code",
   "execution_count": 1,
   "id": "71b2d980-1744-4649-9761-2d974d4f973c",
   "metadata": {},
   "outputs": [],
   "source": [
    "# 3rd Party Imports\n",
    "from astroquery.mast import Observations"
   ]
  },
  {
   "cell_type": "markdown",
   "id": "edc57c1e-73c2-4a1f-9dde-d18cfdd68647",
   "metadata": {},
   "source": [
    "## Load the Images"
   ]
  },
  {
   "cell_type": "code",
   "execution_count": 2,
   "id": "64fdf108-dd42-4da7-bb90-d95a128c11f1",
   "metadata": {},
   "outputs": [],
   "source": [
    "# Get Observations\n",
    "obsTable = Observations.query_criteria(\n",
    "    objectname=\"ESO137-001\",\n",
    "    target_name='ESO*137-001*',\n",
    "    obs_collection='HST',\n",
    "    dataproduct_type='IMAGE',\n",
    "    provenance_name=['CALACS', 'CALWF3'],\n",
    "    calib_level=3\n",
    ")"
   ]
  },
  {
   "cell_type": "code",
   "execution_count": 3,
   "id": "e2eae74b-666e-42f0-b1d5-a2a93043093d",
   "metadata": {},
   "outputs": [],
   "source": [
    "# Get the Product List\n",
    "products = Observations.get_product_list(obsTable)"
   ]
  },
  {
   "cell_type": "code",
   "execution_count": 6,
   "id": "0914bd6a-a8c2-41d5-adf2-e6c5b9009246",
   "metadata": {},
   "outputs": [
    {
     "name": "stdout",
     "output_type": "stream",
     "text": [
      "Downloading URL https://mast.stsci.edu/api/v0.1/Download/file?uri=mast:HST/product/ib9ga1010_asn.fits to ./mastDownload/HST/ib9ga1010/ib9ga1010_asn.fits ... [Done]\n",
      "Downloading URL https://mast.stsci.edu/api/v0.1/Download/file?uri=mast:HST/product/ib9ga1010_drc.fits to ./mastDownload/HST/ib9ga1010/ib9ga1010_drc.fits ... [Done]\n",
      "Downloading URL https://mast.stsci.edu/api/v0.1/Download/file?uri=mast:HST/product/ib9ga1qdq_flc.fits to ./mastDownload/HST/ib9ga1qdq/ib9ga1qdq_flc.fits ... [Done]\n",
      "Downloading URL https://mast.stsci.edu/api/v0.1/Download/file?uri=mast:HST/product/ib9ga1qeq_flc.fits to ./mastDownload/HST/ib9ga1qeq/ib9ga1qeq_flc.fits ... [Done]\n",
      "Downloading URL https://mast.stsci.edu/api/v0.1/Download/file?uri=mast:HST/product/ib9ga1qfq_flc.fits to ./mastDownload/HST/ib9ga1qfq/ib9ga1qfq_flc.fits ... [Done]\n",
      "Downloading URL https://mast.stsci.edu/api/v0.1/Download/file?uri=mast:HST/product/jb9g01010_asn.fits to ./mastDownload/HST/jb9g01010/jb9g01010_asn.fits ... [Done]\n",
      "Downloading URL https://mast.stsci.edu/api/v0.1/Download/file?uri=mast:HST/product/jb9g01010_drc.fits to ./mastDownload/HST/jb9g01010/jb9g01010_drc.fits ... [Done]\n",
      "Downloading URL https://mast.stsci.edu/api/v0.1/Download/file?uri=mast:HST/product/jb9g01020_asn.fits to ./mastDownload/HST/jb9g01020/jb9g01020_asn.fits ... [Done]\n",
      "Downloading URL https://mast.stsci.edu/api/v0.1/Download/file?uri=mast:HST/product/jb9g01020_drc.fits to ./mastDownload/HST/jb9g01020/jb9g01020_drc.fits ... [Done]\n",
      "Downloading URL https://mast.stsci.edu/api/v0.1/Download/file?uri=mast:HST/product/jb9g01q5q_flc.fits to ./mastDownload/HST/jb9g01q5q/jb9g01q5q_flc.fits ... [Done]\n",
      "Downloading URL https://mast.stsci.edu/api/v0.1/Download/file?uri=mast:HST/product/jb9g01q6q_flc.fits to ./mastDownload/HST/jb9g01q6q/jb9g01q6q_flc.fits ... [Done]\n",
      "Downloading URL https://mast.stsci.edu/api/v0.1/Download/file?uri=mast:HST/product/jb9g01q8q_flc.fits to ./mastDownload/HST/jb9g01q8q/jb9g01q8q_flc.fits ... [Done]\n",
      "Downloading URL https://mast.stsci.edu/api/v0.1/Download/file?uri=mast:HST/product/jb9g01qaq_flc.fits to ./mastDownload/HST/jb9g01qaq/jb9g01qaq_flc.fits ... [Done]\n"
     ]
    }
   ],
   "source": [
    "# Download Products\n",
    "results = Observations.download_products(\n",
    "    products,\n",
    "    productSubGroupDescription=['FLC', 'DRC', 'ASN'],\n",
    "    project=['CALACS', 'CALWF3'],\n",
    "    filters=['F275W', 'F475W', 'F814W']\n",
    ")"
   ]
  },
  {
   "cell_type": "code",
   "execution_count": 7,
   "id": "df196051",
   "metadata": {},
   "outputs": [
    {
     "name": "stdout",
     "output_type": "stream",
     "text": [
      "Downloading URL https://mast.stsci.edu/api/v0.1/Download/file?uri=mast:HST/product/iblwa1010_asn.fits to ./mastDownload/HST/iblwa1010/iblwa1010_asn.fits ... [Done]\n",
      "Downloading URL https://mast.stsci.edu/api/v0.1/Download/file?uri=mast:HST/product/iblwa1010_drz.fits to ./mastDownload/HST/iblwa1010/iblwa1010_drz.fits ... [Done]\n",
      "Downloading URL https://mast.stsci.edu/api/v0.1/Download/file?uri=mast:HST/product/iblwa1n7q_flt.fits to ./mastDownload/HST/iblwa1n7q/iblwa1n7q_flt.fits ... [Done]\n",
      "Downloading URL https://mast.stsci.edu/api/v0.1/Download/file?uri=mast:HST/product/iblwa1n8q_flt.fits to ./mastDownload/HST/iblwa1n8q/iblwa1n8q_flt.fits ... [Done]\n",
      "Downloading URL https://mast.stsci.edu/api/v0.1/Download/file?uri=mast:HST/product/iblwa1naq_flt.fits to ./mastDownload/HST/iblwa1naq/iblwa1naq_flt.fits ... [Done]\n"
     ]
    }
   ],
   "source": [
    "# Download Products\n",
    "results = Observations.download_products(\n",
    "    products,\n",
    "    productSubGroupDescription=['FLT', 'DRZ', 'ASN'],\n",
    "    project=['CALACS', 'CALWF3'],\n",
    "    filters=['F160W']\n",
    ")"
   ]
  }
 ],
 "metadata": {
  "kernelspec": {
   "display_name": "stenv",
   "language": "python",
   "name": "python3"
  },
  "language_info": {
   "codemirror_mode": {
    "name": "ipython",
    "version": 3
   },
   "file_extension": ".py",
   "mimetype": "text/x-python",
   "name": "python",
   "nbconvert_exporter": "python",
   "pygments_lexer": "ipython3",
   "version": "3.12.7"
  }
 },
 "nbformat": 4,
 "nbformat_minor": 5
}
