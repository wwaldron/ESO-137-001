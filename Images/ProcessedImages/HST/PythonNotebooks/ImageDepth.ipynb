{
 "cells": [
  {
   "cell_type": "markdown",
   "metadata": {},
   "source": [
    "# ESO 137-001 Image Depth\n",
    "\n",
    "Calculates the $3\\sigma$ and $5\\sigma$ image depth of the *HST* ESO 137-001 images.\n",
    "\n",
    "## Imports"
   ]
  },
  {
   "cell_type": "code",
   "execution_count": 1,
   "metadata": {},
   "outputs": [],
   "source": [
    "# Python Imports\n",
    "import warnings\n",
    "from pathlib import Path\n",
    "\n",
    "# Numerical Imports\n",
    "import numpy as np\n",
    "\n",
    "# Astropy Imports\n",
    "from astropy import units as u\n",
    "from astropy.io import fits\n",
    "from astropy.wcs import WCS\n",
    "from astropy.table import Table\n",
    "from astropy.coordinates import SkyCoord\n",
    "from astropy.convolution import convolve\n",
    "from astropy.utils.exceptions import AstropyUserWarning\n",
    "from regions import Regions\n",
    "from photutils.background import Background2D\n",
    "from photutils.segmentation import SourceFinder, make_2dgaussian_kernel\n",
    "from photutils.utils import ImageDepth"
   ]
  },
  {
   "cell_type": "markdown",
   "metadata": {},
   "source": [
    "## Notebook Setup"
   ]
  },
  {
   "cell_type": "code",
   "execution_count": 2,
   "metadata": {},
   "outputs": [],
   "source": [
    "# Turn off Astropy Warnings in Photutils\n",
    "warnings.filterwarnings('ignore', category=AstropyUserWarning)"
   ]
  },
  {
   "cell_type": "code",
   "execution_count": 5,
   "metadata": {},
   "outputs": [],
   "source": [
    "# Constants\n",
    "APER_RADIUS = {  # pix\n",
    "    275: 0.55/0.03,\n",
    "    475: 0.50/0.03,\n",
    "    814: 0.50/0.03,\n",
    "    160: 0.80/0.03\n",
    "}\n",
    "\n",
    "# N-Sigma\n",
    "N_SIGMA = 1.5"
   ]
  },
  {
   "cell_type": "code",
   "execution_count": 6,
   "metadata": {},
   "outputs": [],
   "source": [
    "# Image Paths\n",
    "IMG_FNS = {\n",
    "    275: Path('DrizzledImages/ESO137-001-F275W_drc.fits'),\n",
    "    475: Path('DrizzledImages/ESO137-001-F475W_drc.fits'),\n",
    "    814: Path('DrizzledImages/ESO137-001-F814W_drc.fits'),\n",
    "    160: Path('DrizzledImages/ESO137-001-F160W_drz.fits')\n",
    "}\n",
    "\n",
    "# Image FOVs Paths\n",
    "FOV_FNS = {\n",
    "    275: Path('DS9/FOVs/WFC3-UVIS-FOV.reg'),\n",
    "    475: Path('DS9/FOVs/ACS-WFC-FOV.reg'),\n",
    "    814: Path('DS9/FOVs/ACS-WFC-FOV.reg'),\n",
    "    160: Path('DS9/FOVs/WFC3-IR-FOV.reg')\n",
    "}"
   ]
  },
  {
   "cell_type": "code",
   "execution_count": 7,
   "metadata": {},
   "outputs": [],
   "source": [
    "# Zeropoint Values\n",
    "ZPTS = {\n",
    "    275: 24.171335,\n",
    "    475: 26.060433,\n",
    "    814: 25.948921,\n",
    "    160: 25.946227\n",
    "}\n",
    "\n",
    "# Galactic Extinction Values\n",
    "GAL_EXT = {\n",
    "    275: 1.158,\n",
    "    475: 0.689,\n",
    "    814: 0.322,\n",
    "    160: 0.108\n",
    "}"
   ]
  },
  {
   "cell_type": "markdown",
   "metadata": {},
   "source": [
    "## Calculate Image Depth"
   ]
  },
  {
   "cell_type": "code",
   "execution_count": 8,
   "metadata": {},
   "outputs": [],
   "source": [
    "# Get Galaxy Footprint\n",
    "galaxyRegions = Regions().read('DS9/GalaxyFootprint-BG_Calc.reg')"
   ]
  },
  {
   "cell_type": "code",
   "execution_count": 9,
   "metadata": {},
   "outputs": [
    {
     "data": {
      "application/vnd.jupyter.widget-view+json": {
       "model_id": "252450f8ff3c411cba36f06c91bb25ec",
       "version_major": 2,
       "version_minor": 0
      },
      "text/plain": [
       "Image Depths:   0%|          | 0/50 [00:00<?, ?it/s]"
      ]
     },
     "metadata": {},
     "output_type": "display_data"
    },
    {
     "data": {
      "application/vnd.jupyter.widget-view+json": {
       "model_id": "53cb09aad86d49d8a76222065e8b891b",
       "version_major": 2,
       "version_minor": 0
      },
      "text/plain": [
       "Image Depths:   0%|          | 0/50 [00:00<?, ?it/s]"
      ]
     },
     "metadata": {},
     "output_type": "display_data"
    },
    {
     "data": {
      "application/vnd.jupyter.widget-view+json": {
       "model_id": "2f883bf895034ca292455b45c0720285",
       "version_major": 2,
       "version_minor": 0
      },
      "text/plain": [
       "Image Depths:   0%|          | 0/50 [00:00<?, ?it/s]"
      ]
     },
     "metadata": {},
     "output_type": "display_data"
    },
    {
     "data": {
      "application/vnd.jupyter.widget-view+json": {
       "model_id": "78bfeff12dc74c8aa7f2786802d9cbf7",
       "version_major": 2,
       "version_minor": 0
      },
      "text/plain": [
       "Image Depths:   0%|          | 0/50 [00:00<?, ?it/s]"
      ]
     },
     "metadata": {},
     "output_type": "display_data"
    }
   ],
   "source": [
    "# Loop through Images\n",
    "magLims, depth = {}, {}\n",
    "galMask = None  # Initialize to avoid reference before assignment error\n",
    "for key, fileName in IMG_FNS.items():\n",
    "\n",
    "    # Read in Image\n",
    "    with fits.open(fileName) as hdul:\n",
    "        img = hdul['SCI'].data\n",
    "        hdr = hdul['SCI'].header\n",
    "\n",
    "    # Get Galaxy Mask\n",
    "    if galMask is None:\n",
    "        galMask = np.zeros_like(img, dtype=bool)  # Initialize if not set\n",
    "        for reg in galaxyRegions:\n",
    "            galMask |= reg.to_pixel(WCS(hdr)).to_mask().to_image(img.shape, bool)\n",
    "\n",
    "    # Get the Coverage Mask\n",
    "    coverageMask = Regions().read(FOV_FNS[key])[0].to_pixel(WCS(hdr)).to_mask()\n",
    "    coverageMask = ~coverageMask.to_image(img.shape, bool)\n",
    "    badPixMask   = ~np.isfinite(img) & ~coverageMask\n",
    "\n",
    "    # Get Background\n",
    "    bkg = Background2D(\n",
    "        img, 128, mask=badPixMask, coverage_mask=coverageMask\n",
    "    )\n",
    "\n",
    "    # Set Threshold and Kernel\n",
    "    if key != 160:\n",
    "        kernel = make_2dgaussian_kernel(3.5*5/3, 9)\n",
    "    else:\n",
    "        kernel = make_2dgaussian_kernel(7, 11)\n",
    "    threshold = 1.25 * bkg.background_rms\n",
    "\n",
    "    # Get the Background Subtracted Image & Convolve\n",
    "    img -= bkg.background\n",
    "    convData = convolve(\n",
    "        img, kernel\n",
    "    )\n",
    "\n",
    "    # Find Sources\n",
    "    finder = SourceFinder(10, nproc=4, deblend=False)\n",
    "    segMap = finder(convData, threshold)\n",
    "    srcMask = segMap.make_source_mask()\n",
    "\n",
    "    # Get the Depth\n",
    "    mask_pad = 20 if key != 275 else 0\n",
    "    depth[key] = ImageDepth(\n",
    "        APER_RADIUS[key], nsigma=N_SIGMA, mask_pad=mask_pad, napers=1000, niters=50,\n",
    "        overlap=False, seed=None, zeropoint=ZPTS[key] - GAL_EXT[key]\n",
    "    )\n",
    "    _, magLims[key] = depth[key](img, coverageMask | badPixMask | srcMask | galMask)\n"
   ]
  },
  {
   "cell_type": "code",
   "execution_count": 10,
   "metadata": {},
   "outputs": [
    {
     "name": "stdout",
     "output_type": "stream",
     "text": [
      "F275W: 25.33 +/- 0.03 mag(AB) (image 1.5-sigma depth)\n",
      "F475W: 26.53 +/- 0.03 mag(AB) (image 1.5-sigma depth)\n",
      "F814W: 25.96 +/- 0.03 mag(AB) (image 1.5-sigma depth)\n",
      "F160W: 25.57 +/- 0.05 mag(AB) (image 1.5-sigma depth)\n"
     ]
    }
   ],
   "source": [
    "for key, magLim in magLims.items():\n",
    "    print(f\"F{key}W: {magLim:.2f} +/- {depth[key].mag_limits.std()<<u.ABmag:.2f} (image {N_SIGMA:.1f}-sigma depth)\")"
   ]
  },
  {
   "cell_type": "code",
   "execution_count": 11,
   "metadata": {},
   "outputs": [],
   "source": [
    "for key, d in depth.items():\n",
    "    with open(f\"DS9/Depths/ESO137-001-F{key}W-DepthApers.reg\", \"w\") as fid:\n",
    "        fid.write(\"# Region file format: DS9 version 4.1\\n\")\n",
    "        fid.write(f\"global color=cyan width=2\\n\")\n",
    "        fid.write(\"image\\n\")\n",
    "        for aper in d.apertures[0]:\n",
    "            x, y = aper.positions\n",
    "            r = aper.r\n",
    "            fid.write(f\"circle({x:.4f},{y:.4f},{r:.2f})\\n\")"
   ]
  },
  {
   "cell_type": "markdown",
   "metadata": {},
   "source": [
    "## Get the Measured Data / Depth"
   ]
  },
  {
   "cell_type": "code",
   "execution_count": null,
   "metadata": {},
   "outputs": [
    {
     "name": "stderr",
     "output_type": "stream",
     "text": [
      "/home/wwaldron/Software/miniforge3/envs/stenv/lib/python3.12/site-packages/astropy/units/function/logarithmic.py:67: RuntimeWarning: invalid value encountered in log10\n",
      "  return dex.to(self._function_unit, np.log10(x))\n",
      "/home/wwaldron/Software/miniforge3/envs/stenv/lib/python3.12/site-packages/astropy/units/function/logarithmic.py:67: RuntimeWarning: invalid value encountered in log10\n",
      "  return dex.to(self._function_unit, np.log10(x))\n",
      "/home/wwaldron/Software/miniforge3/envs/stenv/lib/python3.12/site-packages/astropy/units/function/logarithmic.py:67: RuntimeWarning: invalid value encountered in log10\n",
      "  return dex.to(self._function_unit, np.log10(x))\n",
      "/home/wwaldron/Software/miniforge3/envs/stenv/lib/python3.12/site-packages/astropy/units/function/logarithmic.py:67: RuntimeWarning: invalid value encountered in log10\n",
      "  return dex.to(self._function_unit, np.log10(x))\n"
     ]
    }
   ],
   "source": [
    "# Load Data\n",
    "catalogs, mags = {}, {}\n",
    "catPath = Path('/home/wwaldron/Research/Galaxies/ESO/ESO137001/Data/SExtractor/Catalogs')\n",
    "for key in depth:\n",
    "\n",
    "    # Use Astropy to Read SExtractor Catalog\n",
    "    catalogs[key] = Table.read(catPath / f'ESO_F{key}WxF{key}W.cat', format='ascii.sextractor')\n"
   ]
  },
  {
   "cell_type": "code",
   "execution_count": null,
   "metadata": {},
   "outputs": [],
   "source": [
    "# Keep the Sources Detected in Lower Three Bands\n",
    "keepInds = {}\n",
    "maxSep = 0.2 * u.arcsec\n",
    "for key, cat in catalogs.items():\n",
    "\n",
    "    # Assume Everything Detected\n",
    "    keepInd = np.ones_like(cat['NUMBER'], dtype=bool)\n",
    "    crds    = SkyCoord(\n",
    "        ra= cat['X_WORLD'],\n",
    "        dec=cat['Y_WORLD'],\n",
    "        frame='fk5'\n",
    "    )\n",
    "\n",
    "    # Loop through Detection Bands\n",
    "    for corrKey in [275, 475, 814]:\n",
    "\n",
    "        # Skip Repeats\n",
    "        if corrKey == key:\n",
    "            continue\n",
    "\n",
    "        # Get Coords from Catalog to Correlate\n",
    "        corrCrds = SkyCoord(\n",
    "            ra=catalogs[corrKey]['X_WORLD'],\n",
    "            dec=catalogs[corrKey]['Y_WORLD'],\n",
    "            frame='fk5'\n",
    "        )\n",
    "\n",
    "        # Get Matches\n",
    "        _, d2d, _ = crds.match_to_catalog_sky(corrCrds)\n",
    "        keepInd &= (d2d < maxSep)\n",
    "\n",
    "    # Store Inds to Keep\n",
    "    keepInds[key] = keepInd"
   ]
  },
  {
   "cell_type": "code",
   "execution_count": 178,
   "metadata": {},
   "outputs": [
    {
     "name": "stderr",
     "output_type": "stream",
     "text": [
      "/home/wwaldron/Software/miniforge3/envs/stenv/lib/python3.12/site-packages/astropy/units/function/logarithmic.py:67: RuntimeWarning: invalid value encountered in log10\n",
      "  return dex.to(self._function_unit, np.log10(x))\n"
     ]
    }
   ],
   "source": [
    "# Trim Catalogs & Get Mags\n",
    "for key, cat in catalogs.items():\n",
    "\n",
    "    # Trim\n",
    "    catalogs[key] = cat[keepInds[key]]\n",
    "\n",
    "    # Get Mags\n",
    "    mags[key]  = u.Magnitude(catalogs[key]['FLUX_APER'].value << u.electron/u.s)\n",
    "    mags[key] -= u.Magnitude(GAL_EXT[key])\n",
    "    mags[key] += u.Magnitude(ZPTS[key], 'mag(AB s / electron)')  # Apply Zeropoint"
   ]
  },
  {
   "cell_type": "code",
   "execution_count": null,
   "metadata": {},
   "outputs": [
    {
     "name": "stdout",
     "output_type": "stream",
     "text": [
      "275 Faintest Source: 28.33 mag(AB) (source 1.5-sigma depth)\n",
      "475 Faintest Source: 26.65 mag(AB) (source 1.5-sigma depth)\n",
      "814 Faintest Source: 26.59 mag(AB) (source 1.5-sigma depth)\n",
      "160 Faintest Source: 25.41 mag(AB) (source 1.5-sigma depth)\n"
     ]
    }
   ],
   "source": [
    "for key, filtMags in mags.items():\n",
    "\n",
    "    # Get Good Inds\n",
    "    goodMask = np.isfinite(filtMags)\n",
    "\n",
    "    # Print 3sigma Depths\n",
    "    empDepth = filtMags[goodMask].max()\n",
    "    print(f'{key} Faintest Source: {empDepth:.2f} (source {N_SIGMA:.1f}-sigma depth)')"
   ]
  }
 ],
 "metadata": {
  "kernelspec": {
   "display_name": "stenv",
   "language": "python",
   "name": "python3"
  },
  "language_info": {
   "codemirror_mode": {
    "name": "ipython",
    "version": 3
   },
   "file_extension": ".py",
   "mimetype": "text/x-python",
   "name": "python",
   "nbconvert_exporter": "python",
   "pygments_lexer": "ipython3",
   "version": "3.12.7"
  }
 },
 "nbformat": 4,
 "nbformat_minor": 2
}
