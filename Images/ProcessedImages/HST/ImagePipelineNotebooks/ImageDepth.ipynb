{
 "cells": [
  {
   "cell_type": "markdown",
   "metadata": {},
   "source": [
    "# ESO 137-001 Image Depth\n",
    "\n",
    "Calculates the $3\\sigma$ and $5\\sigma$ image depth of the *HST* ESO 137-001 images.\n",
    "\n",
    "## Imports"
   ]
  },
  {
   "cell_type": "code",
   "execution_count": null,
   "metadata": {},
   "outputs": [],
   "source": [
    "# Python Imports\n",
    "import warnings\n",
    "from pathlib import Path\n",
    "\n",
    "# Numerical Imports\n",
    "import numpy as np\n",
    "\n",
    "# Astropy Imports\n",
    "from astropy import units as u\n",
    "from astropy.io import fits\n",
    "from astropy.wcs import WCS\n",
    "from astropy.table import Table\n",
    "from astropy.coordinates import SkyCoord\n",
    "from astropy.convolution import convolve\n",
    "from astropy.utils.exceptions import AstropyUserWarning\n",
    "from regions import Regions\n",
    "from photutils.background import Background2D\n",
    "from photutils.aperture import CircularAperture, CircularAnnulus, aperture_photometry, ApertureStats\n",
    "from photutils.segmentation import SourceFinder, make_2dgaussian_kernel\n",
    "from photutils.utils import ImageDepth"
   ]
  },
  {
   "cell_type": "markdown",
   "metadata": {},
   "source": [
    "## Notebook Setup"
   ]
  },
  {
   "cell_type": "code",
   "execution_count": null,
   "metadata": {},
   "outputs": [],
   "source": [
    "# Turn off Astropy Warnings in Photutils\n",
    "warnings.filterwarnings('ignore', category=AstropyUserWarning)\n",
    "warnings.filterwarnings('ignore', category=RuntimeWarning)"
   ]
  },
  {
   "cell_type": "code",
   "execution_count": null,
   "metadata": {},
   "outputs": [],
   "source": [
    "# Constants\n",
    "APER_RADIUS = {  # pix\n",
    "    275: 0.55/0.03,\n",
    "    475: 0.50/0.03,\n",
    "    814: 0.50/0.03,\n",
    "    160: 0.80/0.03\n",
    "}\n",
    "\n",
    "# N-Sigma\n",
    "N_SIGMA = 3.0"
   ]
  },
  {
   "cell_type": "code",
   "execution_count": null,
   "metadata": {},
   "outputs": [],
   "source": [
    "# Image Paths\n",
    "IMG_FNS = {\n",
    "    275: Path('../DrizzledImages/ESO137-001-F275W_drc.fits'),\n",
    "    475: Path('../DrizzledImages/ESO137-001-F475W_drc.fits'),\n",
    "    814: Path('../DrizzledImages/ESO137-001-F814W_drc.fits'),\n",
    "    160: Path('../DrizzledImages/ESO137-001-F160W_drz.fits')\n",
    "}\n",
    "\n",
    "# Image FOVs Paths\n",
    "FOV_FNS = {\n",
    "    275: Path('../DS9/FOVs/WFC3-UVIS-FOV.reg'),\n",
    "    475: Path('../DS9/FOVs/ACS-WFC-FOV.reg'),\n",
    "    814: Path('../DS9/FOVs/ACS-WFC-FOV.reg'),\n",
    "    160: Path('../DS9/FOVs/WFC3-IR-FOV.reg')\n",
    "}"
   ]
  },
  {
   "cell_type": "code",
   "execution_count": null,
   "metadata": {},
   "outputs": [],
   "source": [
    "# Zeropoint Values\n",
    "ZPTS = {\n",
    "    275: 24.171335,\n",
    "    475: 26.060433,\n",
    "    814: 25.948921,\n",
    "    160: 25.946227\n",
    "}\n",
    "\n",
    "# Galactic Extinction Values\n",
    "GAL_EXT = {\n",
    "    275: 1.158,\n",
    "    475: 0.689,\n",
    "    814: 0.322,\n",
    "    160: 0.108\n",
    "}"
   ]
  },
  {
   "cell_type": "code",
   "execution_count": null,
   "metadata": {},
   "outputs": [],
   "source": [
    "# Functions\n",
    "def get_rms(a, axis=None):\n",
    "    return np.sqrt(np.mean(np.asanyarray(a)**2, axis=axis))"
   ]
  },
  {
   "cell_type": "markdown",
   "metadata": {},
   "source": [
    "## Calculate Image Depth"
   ]
  },
  {
   "cell_type": "code",
   "execution_count": null,
   "metadata": {},
   "outputs": [],
   "source": [
    "# Get Galaxy Footprint\n",
    "galaxyRegions = Regions().read('../DS9/GalaxyFootprint-BG_Calc.reg')"
   ]
  },
  {
   "cell_type": "code",
   "execution_count": null,
   "metadata": {},
   "outputs": [],
   "source": [
    "# Loop through Images\n",
    "magLims, depth = {}, {}\n",
    "galMask = None  # Initialize to avoid reference before assignment error\n",
    "for key, fileName in IMG_FNS.items():\n",
    "\n",
    "    # Read in Image\n",
    "    with fits.open(fileName) as hdul:\n",
    "        img = hdul['SCI'].data\n",
    "        hdr = hdul['SCI'].header\n",
    "\n",
    "    # Get Galaxy Mask\n",
    "    if galMask is None:\n",
    "        galMask = np.zeros_like(img, dtype=bool)  # Initialize if not set\n",
    "        for reg in galaxyRegions:\n",
    "            galMask |= reg.to_pixel(WCS(hdr)).to_mask().to_image(img.shape, bool)\n",
    "\n",
    "    # Get the Coverage Mask\n",
    "    coverageMask = Regions().read(FOV_FNS[key])[0].to_pixel(WCS(hdr)).to_mask()\n",
    "    coverageMask = ~coverageMask.to_image(img.shape, bool)\n",
    "    badPixMask   = ~np.isfinite(img) & ~coverageMask\n",
    "\n",
    "    # Get Background\n",
    "    bkg = Background2D(\n",
    "        img, 128, mask=badPixMask, coverage_mask=coverageMask\n",
    "    )\n",
    "\n",
    "    # Set Threshold and Kernel\n",
    "    if key != 160:\n",
    "        kernel = make_2dgaussian_kernel(3.5*5/3, 9)\n",
    "    else:\n",
    "        kernel = make_2dgaussian_kernel(7, 11)\n",
    "    threshold = 1.25 * bkg.background_rms\n",
    "\n",
    "    # Get the Background Subtracted Image & Convolve\n",
    "    img -= bkg.background\n",
    "    convData = convolve(\n",
    "        img, kernel\n",
    "    )\n",
    "\n",
    "    # Find Sources\n",
    "    finder = SourceFinder(10, nproc=4, deblend=False)\n",
    "    segMap = finder(convData, threshold)\n",
    "    srcMask = segMap.make_source_mask()\n",
    "\n",
    "    # Get the Depth\n",
    "    mask_pad = 20 if key != 275 else 0\n",
    "    depth[key] = ImageDepth(\n",
    "        APER_RADIUS[key], nsigma=N_SIGMA, mask_pad=mask_pad, napers=1000, niters=50,\n",
    "        overlap=False, seed=None, zeropoint=ZPTS[key] - GAL_EXT[key]\n",
    "    )\n",
    "    _, magLims[key] = depth[key](img, coverageMask | badPixMask | srcMask | galMask)\n"
   ]
  },
  {
   "cell_type": "code",
   "execution_count": null,
   "metadata": {},
   "outputs": [],
   "source": [
    "for key, magLim in magLims.items():\n",
    "    print(f\"F{key}W: {magLim:.2f} +/- {depth[key].mag_limits.std()<<u.ABmag:.2f} (image {N_SIGMA:.1f}-sigma depth)\")"
   ]
  },
  {
   "cell_type": "code",
   "execution_count": null,
   "metadata": {},
   "outputs": [],
   "source": [
    "for key, d in depth.items():\n",
    "    with open(f\"../DS9/Depths/ESO137-001-F{key}W-DepthApers.reg\", \"w\") as fid:\n",
    "        fid.write(\"# Region file format: DS9 version 4.1\\n\")\n",
    "        fid.write(f\"global color=cyan width=2\\n\")\n",
    "        fid.write(\"image\\n\")\n",
    "        for aper in d.apertures[0]:\n",
    "            x, y = aper.positions\n",
    "            r = aper.r\n",
    "            fid.write(f\"circle({x:.4f},{y:.4f},{r:.2f})\\n\")"
   ]
  },
  {
   "cell_type": "markdown",
   "metadata": {},
   "source": [
    "## Get Depth with RMS Images"
   ]
  },
  {
   "cell_type": "code",
   "execution_count": null,
   "metadata": {},
   "outputs": [],
   "source": [
    "# Loop through Images\n",
    "for key, fileName in IMG_FNS.items():\n",
    "\n",
    "    # Read in Image\n",
    "    with fits.open(fileName) as hdul:\n",
    "        ivm = hdul['WHT-IVM'].data\n",
    "        hdr = hdul['WHT-IVM'].header\n",
    "\n",
    "    # Get the RMS Image\n",
    "    rms = np.sqrt(1.0 / ivm)\n",
    "\n",
    "    # Get \"Photometry\"\n",
    "    stats = ApertureStats(\n",
    "        rms, depth[key].apertures[0]\n",
    "    )\n",
    "\n",
    "    # Get the RMS Values\n",
    "    limFlux = N_SIGMA*np.asarray([\n",
    "        get_rms(data.compressed()) for data in stats.data_sumcutout\n",
    "    ]).mean()\n",
    "\n",
    "    # Get Limiting Mag\n",
    "    magLim  = u.Magnitude(limFlux << u.electron/u.s)\n",
    "    magLim -= u.Magnitude(GAL_EXT[key])\n",
    "    magLim += u.Magnitude(ZPTS[key], 'mag(AB s / electron)')  # Apply Zeropoint\n",
    "    print(f\"F{key}W: {magLim:.2f} (RMS image {N_SIGMA:.1f}-sigma depth)\")"
   ]
  },
  {
   "cell_type": "markdown",
   "metadata": {},
   "source": [
    "## Get Depth with Manually Selected Regions"
   ]
  },
  {
   "cell_type": "code",
   "execution_count": null,
   "metadata": {},
   "outputs": [],
   "source": [
    "# Loop through Images\n",
    "for key, fileName in IMG_FNS.items():\n",
    "\n",
    "    # Read in Image\n",
    "    with fits.open(fileName) as hdul:\n",
    "        img = hdul['SCI'].data\n",
    "\n",
    "    # Get the Regions\n",
    "    regions = Regions().read(f'../DS9/Depths/ManualRegions/ESO137-001-F{key}W-ManualDepthApers.reg')\n",
    "\n",
    "    # Setup Apertures\n",
    "    positions = [region.center.xy for region in regions]\n",
    "    apertures = CircularAperture(positions, r=APER_RADIUS[key])\n",
    "    annulus = CircularAnnulus(positions, r_in=APER_RADIUS[key]+5, r_out=APER_RADIUS[key]+10)\n",
    "\n",
    "    # Get the Foreground & Background\n",
    "    bkgStats = ApertureStats(\n",
    "        img, annulus\n",
    "    )\n",
    "    stats = ApertureStats(\n",
    "        img, apertures, local_bkg=bkgStats.mean\n",
    "    )\n",
    "\n",
    "    # Get Limiting Mag\n",
    "    magLim  = u.Magnitude(N_SIGMA*stats.sum.std() << u.electron/u.s)\n",
    "    magLim -= u.Magnitude(GAL_EXT[key])\n",
    "    magLim += u.Magnitude(ZPTS[key], 'mag(AB s / electron)')  # Apply Zeropoint\n",
    "    print(f\"F{key}W: {magLim:.2f} (image {N_SIGMA:.1f}-sigma depth; manual regions)\")"
   ]
  },
  {
   "cell_type": "markdown",
   "metadata": {},
   "source": [
    "## Get the SExtractor Measured Data / Depth"
   ]
  },
  {
   "cell_type": "code",
   "execution_count": null,
   "metadata": {},
   "outputs": [],
   "source": [
    "# Load Data\n",
    "catalogs, mags = {}, {}\n",
    "catPath = Path('/home/wwaldron/Research/Galaxies/ESO/ESO-137-001/Data/SExtractor/Catalogs')\n",
    "for key in depth:\n",
    "\n",
    "    # Use Astropy to Read SExtractor Catalog\n",
    "    catalogs[key] = Table.read(catPath / f'ESO_F{key}WxF{key}W.cat', format='ascii.sextractor')\n"
   ]
  },
  {
   "cell_type": "code",
   "execution_count": null,
   "metadata": {},
   "outputs": [],
   "source": [
    "# Keep the Sources Detected in Lower Three Bands\n",
    "keepInds = {}\n",
    "maxSep = 0.2 * u.arcsec\n",
    "for key, cat in catalogs.items():\n",
    "\n",
    "    # Assume Everything Detected\n",
    "    keepInd = np.ones_like(cat['NUMBER'], dtype=bool)\n",
    "    crds    = SkyCoord(\n",
    "        ra= cat['X_WORLD'],\n",
    "        dec=cat['Y_WORLD'],\n",
    "        frame='fk5'\n",
    "    )\n",
    "\n",
    "    # Loop through Detection Bands\n",
    "    for corrKey in [275, 475, 814]:\n",
    "\n",
    "        # Skip Repeats\n",
    "        if corrKey == key:\n",
    "            continue\n",
    "\n",
    "        # Get Coords from Catalog to Correlate\n",
    "        corrCrds = SkyCoord(\n",
    "            ra=catalogs[corrKey]['X_WORLD'],\n",
    "            dec=catalogs[corrKey]['Y_WORLD'],\n",
    "            frame='fk5'\n",
    "        )\n",
    "\n",
    "        # Get Matches\n",
    "        _, d2d, _ = crds.match_to_catalog_sky(corrCrds)\n",
    "        keepInd &= (d2d < maxSep)\n",
    "\n",
    "    # Store Inds to Keep\n",
    "    keepInds[key] = keepInd"
   ]
  },
  {
   "cell_type": "code",
   "execution_count": null,
   "metadata": {},
   "outputs": [],
   "source": [
    "# Trim Catalogs & Get Mags\n",
    "for key, cat in catalogs.items():\n",
    "\n",
    "    # Trim\n",
    "    catalogs[key] = cat[keepInds[key]]\n",
    "\n",
    "    # Get Mags\n",
    "    mags[key]  = u.Magnitude(catalogs[key]['FLUX_APER'].value << u.electron/u.s)\n",
    "    mags[key] -= u.Magnitude(GAL_EXT[key])\n",
    "    mags[key] += u.Magnitude(ZPTS[key], 'mag(AB s / electron)')  # Apply Zeropoint"
   ]
  },
  {
   "cell_type": "code",
   "execution_count": null,
   "metadata": {},
   "outputs": [],
   "source": [
    "for key, filtMags in mags.items():\n",
    "\n",
    "    # Get Good Inds\n",
    "    goodMask = np.isfinite(filtMags)\n",
    "\n",
    "    # Print 3sigma Depths\n",
    "    empDepth = filtMags[goodMask].max()\n",
    "    print(f'F{key}W Faintest Source: {empDepth:.2f} (source 1.5-sigma depth)')"
   ]
  }
 ],
 "metadata": {
  "kernelspec": {
   "display_name": "stenv",
   "language": "python",
   "name": "python3"
  },
  "language_info": {
   "codemirror_mode": {
    "name": "ipython",
    "version": 3
   },
   "file_extension": ".py",
   "mimetype": "text/x-python",
   "name": "python",
   "nbconvert_exporter": "python",
   "pygments_lexer": "ipython3",
   "version": "3.12.9"
  }
 },
 "nbformat": 4,
 "nbformat_minor": 2
}
