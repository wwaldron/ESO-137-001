{
 "cells": [
  {
   "cell_type": "markdown",
   "id": "f24c0cfa",
   "metadata": {},
   "source": [
    "# RMS Image Creator\n",
    "\n",
    "Creates the RMS images from the Drizzled Images needed for SExtractor."
   ]
  },
  {
   "cell_type": "markdown",
   "id": "3a64b2cc",
   "metadata": {},
   "source": [
    "## Imports"
   ]
  },
  {
   "cell_type": "code",
   "execution_count": null,
   "id": "8fc63756",
   "metadata": {},
   "outputs": [],
   "source": [
    "# Python Imports\n",
    "from pathlib import Path"
   ]
  },
  {
   "cell_type": "code",
   "execution_count": null,
   "id": "4a8fe709",
   "metadata": {},
   "outputs": [],
   "source": [
    "# Numerical Imports\n",
    "import numpy as np"
   ]
  },
  {
   "cell_type": "code",
   "execution_count": null,
   "id": "a7775279",
   "metadata": {},
   "outputs": [],
   "source": [
    "# Astropy Collab Imports\n",
    "from astropy.io import fits\n",
    "from astropy.wcs import WCS"
   ]
  },
  {
   "cell_type": "markdown",
   "id": "a8c8ae8c",
   "metadata": {},
   "source": [
    "## Notebook Setup"
   ]
  },
  {
   "cell_type": "code",
   "execution_count": null,
   "id": "052088bc",
   "metadata": {},
   "outputs": [],
   "source": [
    "# Image Directory\n",
    "INP_IMG_DIR = Path('../Drizzled')\n",
    "OUT_IMG_DIR = Path('../RMS')"
   ]
  },
  {
   "cell_type": "markdown",
   "id": "cd0a3f64",
   "metadata": {},
   "source": [
    "## Load/Save the Data"
   ]
  },
  {
   "cell_type": "code",
   "execution_count": null,
   "id": "a57ae0c4",
   "metadata": {},
   "outputs": [],
   "source": [
    "# Loop through Images\n",
    "for fn in list(INP_IMG_DIR.glob('*.fits')):\n",
    "\n",
    "    # Make the Output Object\n",
    "    outHduList = fits.HDUList()\n",
    "\n",
    "    # Load the Image\n",
    "    with fits.open(fn) as hduList:\n",
    "\n",
    "        # Keep the Same Primary HDU\n",
    "        outHduList.append(hduList[0].copy())  # Copy the Primary HDU\n",
    "\n",
    "        # Make the RMS Image and Copy the WCS\n",
    "        outHduList.append(fits.ImageHDU(\n",
    "            data=np.sqrt(1/hduList['WHT-IVM'].data), # IVM to RMS\n",
    "            header=WCS(hduList['WHT-IVM'].header).to_header(),           # Copy the WCS\n",
    "            name='RMS'\n",
    "        ))\n",
    "\n",
    "    # Write the Output Image\n",
    "    outHduList.writeto(\n",
    "        OUT_IMG_DIR / fn.name.replace('drc', 'rms'), overwrite=True\n",
    "    )"
   ]
  }
 ],
 "metadata": {
  "kernelspec": {
   "display_name": "stenv",
   "language": "python",
   "name": "python3"
  },
  "language_info": {
   "codemirror_mode": {
    "name": "ipython",
    "version": 3
   },
   "file_extension": ".py",
   "mimetype": "text/x-python",
   "name": "python",
   "nbconvert_exporter": "python",
   "pygments_lexer": "ipython3",
   "version": "3.12.7"
  }
 },
 "nbformat": 4,
 "nbformat_minor": 5
}
