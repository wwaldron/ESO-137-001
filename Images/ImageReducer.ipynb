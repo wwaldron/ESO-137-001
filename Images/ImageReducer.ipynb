{
 "cells": [
  {
   "cell_type": "markdown",
   "id": "637a0e8a-4df7-4740-8b75-f2d67488f0c3",
   "metadata": {},
   "source": [
    "# ESO 137-001 - Image Reducer\n",
    "\n",
    "The purpose of this notebook is to reduce the FLC files from Hubble by:\n",
    "\n",
    "1. Aligning FLCs to the GAIA catalog\n",
    "2. Drizzling Images together from a particular filter\n",
    "\n",
    "## Imports"
   ]
  },
  {
   "cell_type": "code",
   "execution_count": null,
   "id": "a4534ffe-48ab-4e9c-ad7f-2a35819cab23",
   "metadata": {
    "tags": []
   },
   "outputs": [],
   "source": [
    "# Python Imports\n",
    "from os import path\n",
    "from glob import iglob\n",
    "\n",
    "# Astropy Colab Imports\n",
    "from astropy.io import fits\n",
    "from astropy.wcs import WCS\n",
    "from astropy.table import QTable\n",
    "from drizzlepac.tweakreg import TweakReg\n",
    "from drizzlepac.astrodrizzle import AstroDrizzle"
   ]
  },
  {
   "cell_type": "markdown",
   "id": "77680ad3-81cd-440a-abe5-898417efde85",
   "metadata": {},
   "source": [
    "## Notebook Setup"
   ]
  },
  {
   "cell_type": "code",
   "execution_count": null,
   "id": "49a4de68-e406-4992-a078-e628b6812333",
   "metadata": {
    "tags": []
   },
   "outputs": [],
   "source": [
    "# Data Directory\n",
    "DATA_DIR = 'mastDownload/HST'\n",
    "\n",
    "# FLC Glob Patter\n",
    "FLC_CR_GLOB_PAT = path.join(DATA_DIR, '**/*_crclean_fl?.fits')"
   ]
  },
  {
   "cell_type": "markdown",
   "id": "d5cd3424-175d-427d-ab38-6d2b191ed91d",
   "metadata": {},
   "source": [
    "## Load the Data"
   ]
  },
  {
   "cell_type": "code",
   "execution_count": null,
   "id": "26b6a90f-5641-4f2d-9123-3f28c3db4f78",
   "metadata": {
    "tags": []
   },
   "outputs": [],
   "source": [
    "# Get the File Names and Sort them by filter\n",
    "fileNameDict = {}\n",
    "for fn in iglob(FLC_CR_GLOB_PAT):\n",
    "\n",
    "    # Open the file to get the filter\n",
    "    with fits.open(fn) as hduList:\n",
    "        hdr = hduList[0].header  # Get the Header\n",
    "        if 'FILTER' in hdr:      # If the FILTER keyword exists (WFC3)\n",
    "            filt = hdr['FILTER']\n",
    "        elif 'CLEAR' not in hdr['FILTER1']:  # If FILTER1 is not clear (ACS)\n",
    "            filt = hdr['FILTER1']\n",
    "        else:                                # Else FILTER2 must be the filter (ACS)\n",
    "            filt = hdr['FILTER2']\n",
    "\n",
    "    # Store the Name using the filter as the dict key\n",
    "    # Start the Empty List if Key does not exist\n",
    "    if filt not in fileNameDict:\n",
    "        fileNameDict[filt] = []\n",
    "    fileNameDict[filt].append(fn)"
   ]
  },
  {
   "cell_type": "markdown",
   "id": "ef010d17-6a56-4741-8dfb-3502225764bb",
   "metadata": {},
   "source": [
    "## Align Images to GAIA"
   ]
  },
  {
   "cell_type": "markdown",
   "id": "ff1b2dcc-f4e0-4fa7-a1de-b7cc6aafb3ee",
   "metadata": {},
   "source": [
    "### TweakReg Data Quality Flags\n",
    "\n",
    "This cell defines the\n",
    "[ACS DQ flags](https://www.stsci.edu/hst/instrumentation/acs/data-analysis/dq-flag-definitions),\n",
    "[WFC3-UVIS DQ flags](https://hst-docs.stsci.edu/wfc3dhb/chapter-3-wfc3-data-calibration/3-2-uvis-data-calibration-steps#id-3.2UVISDataCalibrationSteps-3.2.3DataQualityArrayInitialization), and\n",
    "[WFC3-IR DQ flags](https://hst-docs.stsci.edu/wfc3dhb/chapter-3-wfc3-data-calibration/3-3-ir-data-calibration-steps#id-3.3IRDataCalibrationSteps-3.3.1DataQualityInitialization)\n",
    "we want to ignore in the TweakReg process."
   ]
  },
  {
   "cell_type": "code",
   "execution_count": null,
   "id": "0ea2d5c2-07ff-4df9-a748-375f08ada3e0",
   "metadata": {
    "tags": []
   },
   "outputs": [],
   "source": [
    "# ACS DQ Bits\n",
    "DQ_REP_PIX  = 2\n",
    "DQ_BAD_DET  = 4\n",
    "DQ_HOT_PIX  = 16\n",
    "DQ_CR_PIX   = 4096+8192\n",
    "DQ_GOOD_PIX_ACS = ~(DQ_REP_PIX + DQ_BAD_DET + DQ_HOT_PIX + DQ_CR_PIX)\n",
    "\n",
    "# WFC3-UVIS DQ Bits\n",
    "DQ_GOOD_PIX_WFC3_UVIS = ~(DQ_REP_PIX + DQ_BAD_DET + DQ_HOT_PIX + DQ_CR_PIX)\n",
    "\n",
    "# WFC3-UVIS DQ Bits\n",
    "DQ_DETECTOR_PROB = 4\n",
    "DQ_GOOD_PIX_WFC3_IR = ~(DQ_REP_PIX + DQ_DETECTOR_PROB + DQ_HOT_PIX + 4096)\n",
    "\n",
    "# DQ Dict\n",
    "DQ_GOOD_DICT = {\n",
    "    'F275W': DQ_GOOD_PIX_WFC3_UVIS,\n",
    "    'F475W': DQ_GOOD_PIX_ACS,\n",
    "    'F814W': DQ_GOOD_PIX_ACS,\n",
    "    'F160W': DQ_GOOD_PIX_WFC3_IR\n",
    "}"
   ]
  },
  {
   "cell_type": "code",
   "execution_count": null,
   "id": "66df4400-786e-4a61-8b96-06a2229269a9",
   "metadata": {
    "tags": []
   },
   "outputs": [],
   "source": [
    "# Loop through Filters\n",
    "for filter, fileList in fileNameDict.items():\n",
    "\n",
    "    # Image Dep Search Parameters\n",
    "    threshold  = 6.0 if filter != 'F275W' else 20.\n",
    "    conv_width = 3.5 if filter != 'F160W' else 5.0\n",
    "\n",
    "    # Image Find Parameters\n",
    "    imagefindcfg = dict(\n",
    "        # peakmax=900,\n",
    "        threshold=threshold,\n",
    "        conv_width=conv_width,\n",
    "        dqbits=DQ_GOOD_DICT[filter]\n",
    "    )\n",
    "\n",
    "    # Align the Images to the GAIA data\n",
    "    TweakReg(\n",
    "        fileList,\n",
    "        updatehdr=True,\n",
    "        wcsname='GAIA',\n",
    "        clean=True,\n",
    "        configobj=None,\n",
    "        refcat='../Data/GAIA/ESO137-001-GAIA-RefCatalog-icrs.txt',\n",
    "        runfile=f'TweakReg-GAIA-{filter}.log',\n",
    "        searchrad=0.35,\n",
    "        minobj=25,\n",
    "        tolerance=1,\n",
    "        imagefindcfg=imagefindcfg,\n",
    "        interactive=False\n",
    "    )"
   ]
  },
  {
   "cell_type": "code",
   "execution_count": null,
   "id": "d66993f8",
   "metadata": {},
   "outputs": [],
   "source": [
    "%%bash\n",
    "\n",
    "# Clean Up\n",
    "mkdir -p logs/tweakreg\n",
    "mv TweakReg-GAIA-*.log logs/tweakreg/\n",
    "rm *.coo *.png"
   ]
  },
  {
   "cell_type": "markdown",
   "id": "850f371e-8d46-4f59-b725-ed670feaf1d8",
   "metadata": {},
   "source": [
    "## Drizzle Images for CR Correction\n",
    "\n",
    "Although there will be additional notes added later, it is worth noting that according to\n",
    "[STScI](https://hst-docs.stsci.edu/drizzpac/chapter-6-reprocessing-with-the-drizzlepac-package/6-3-running-astrodrizzle#id-6.3RunningAstroDrizzle-SelectingtheOptimalScaleandPixfrac):\n",
    "\n",
    "1. For sub-pixel dithered data, select an output scale that's smaller than the native scale.\n",
    "It will even help in the cosmic ray rejection step.\n",
    "1. A smaller final_pixfrac gives higher resolution and lower correlated noise, but also reduces\n",
    "sensitivity to low-surface brightness features (though it is possible to convolve a high resolution\n",
    "image later to go after low surface brightness features).\n",
    "1. Keep the standard deviation of the weight map over the main part of the image to above ~0.3 of\n",
    "the mean to insure that one does not lose significant signal-to-noise in ignoring the weight map in\n",
    "final photometry.\n",
    "\n",
    "To summarize the last step, a `final_scale`/`final_pixfrac` combo should be chosen such that,\n",
    "for the weight image,\n",
    "\\begin{equation}\n",
    "    \\mathrm{std} \\gtrsim 0.3 \\, \\mathrm{mean}\n",
    "\\end{equation}\n",
    "\n",
    "### Note on Image Weights\n",
    "\n",
    "AstroDrizzle can output [three different weight maps](https://drizzlepac.readthedocs.io/en/latest/drizzlepac_api/astrodrizzle.html):\n",
    "exposure, \"error\" (appears to be legacy), and an inverse variance map. I have found that, in some cases, the exposure map\n",
    "is more useful, and in other cases, the inverse variance map is more useful. Therefore, AstroDrizzle is run twice\n",
    "below getting the two different types of weights. The files are then combined such that both weight types\n",
    "are present in the final output file."
   ]
  },
  {
   "cell_type": "markdown",
   "id": "5184746e-d059-4b54-b209-f69658b672c7",
   "metadata": {},
   "source": [
    "### AstroDrizzle Drizzle Data Quality Flags\n",
    "\n",
    "* [ACS DQ flags](https://www.stsci.edu/hst/instrumentation/acs/data-analysis/dq-flag-definitions)\n",
    "* [WFC3-UVIS DQ flags](https://hst-docs.stsci.edu/wfc3dhb/chapter-3-wfc3-data-calibration/3-2-uvis-data-calibration-steps#id-3.2UVISDataCalibrationSteps-3.2.3DataQualityArrayInitialization)\n",
    "* [WFC3-IR DQ flags](https://hst-docs.stsci.edu/wfc3dhb/chapter-3-wfc3-data-calibration/3-3-ir-data-calibration-steps#id-3.3IRDataCalibrationSteps-3.3.1DataQualityInitialization)"
   ]
  },
  {
   "cell_type": "code",
   "execution_count": null,
   "id": "07d029d5-486e-4da2-93c4-d472d354be12",
   "metadata": {
    "tags": []
   },
   "outputs": [],
   "source": [
    "# I know I should rewrite \"constants\", but here we are...\n",
    "\n",
    "# ACS DQ Bits\n",
    "DQ_GOOD_PIX_ACS = 64\n",
    "\n",
    "# WFC3-UVIS DQ Bits\n",
    "DQ_GOOD_PIX_WFC3_UVIS = 64\n",
    "\n",
    "# WFC3-UVIS DQ Bits\n",
    "DQ_GOOD_PIX_WFC3_IR = 64 + 512\n",
    "\n",
    "# DQ Dict\n",
    "DQ_GOOD_DICT = {\n",
    "    'F275W': DQ_GOOD_PIX_WFC3_UVIS,\n",
    "    'F475W': DQ_GOOD_PIX_ACS,\n",
    "    'F814W': DQ_GOOD_PIX_ACS,\n",
    "    'F160W': DQ_GOOD_PIX_WFC3_IR\n",
    "}"
   ]
  },
  {
   "cell_type": "markdown",
   "id": "4b73b4ca-9625-4ecc-8c8f-87dcfebfc010",
   "metadata": {},
   "source": [
    "### Drizzle F814W Image First for Reference"
   ]
  },
  {
   "cell_type": "code",
   "execution_count": null,
   "id": "0d8c1f87",
   "metadata": {},
   "outputs": [],
   "source": [
    "# Drizzle Constants\n",
    "FINAL_SCALE = 0.03\n",
    "FINAL_FRAC  = 0.7"
   ]
  },
  {
   "cell_type": "code",
   "execution_count": null,
   "id": "727ad88a-d11f-4eeb-b155-cf12039938aa",
   "metadata": {
    "tags": []
   },
   "outputs": [],
   "source": [
    "# Drizzle Images\n",
    "AstroDrizzle(\n",
    "    fileNameDict['F814W'],\n",
    "    output='ESO137-001-F814W',\n",
    "    runfile='AstroDrizzle-F814W.log',\n",
    "    wcskey='GAIA',\n",
    "    context=False,\n",
    "    configobj=None,\n",
    "    num_cores=8,\n",
    "    in_memory=False,\n",
    "    build=True,\n",
    "    restore=False,\n",
    "    preserve=False,\n",
    "    clean=True,\n",
    "    skymethod='globalmin+match',\n",
    "    driz_sep_scale=FINAL_SCALE,\n",
    "    driz_sep_bits=DQ_GOOD_PIX_ACS,\n",
    "    combine_type='minmed',\n",
    "    driz_cr_corr=False,\n",
    "    final_wht_type='IVM',\n",
    "    final_pixfrac=FINAL_FRAC,\n",
    "    final_bits=DQ_GOOD_PIX_ACS,\n",
    "    final_wcs=True,\n",
    "    final_rot=0,\n",
    "    final_scale=FINAL_SCALE\n",
    ")\n",
    "\n",
    "# Drizzle Images with Exposure Map\n",
    "AstroDrizzle(\n",
    "    fileNameDict['F814W'],\n",
    "    output='ESO137-001-F814W-exp',\n",
    "    runfile='AstroDrizzle-F814W.log',\n",
    "    wcskey='GAIA',\n",
    "    context=False,\n",
    "    configobj=None,\n",
    "    num_cores=8,\n",
    "    in_memory=False,\n",
    "    build=True,\n",
    "    restore=False,\n",
    "    preserve=False,\n",
    "    clean=True,\n",
    "    skymethod='globalmin+match',\n",
    "    driz_sep_scale=FINAL_SCALE,\n",
    "    driz_sep_bits=DQ_GOOD_PIX_ACS,\n",
    "    combine_type='minmed',\n",
    "    driz_cr_corr=False,\n",
    "    final_wht_type='EXP',\n",
    "    final_pixfrac=FINAL_FRAC,\n",
    "    final_bits=DQ_GOOD_PIX_ACS,\n",
    "    final_wcs=True,\n",
    "    final_rot=0,\n",
    "    final_scale=FINAL_SCALE,\n",
    "    final_refimage='ESO137-001-F814W_drc.fits'\n",
    ")"
   ]
  },
  {
   "cell_type": "code",
   "execution_count": null,
   "id": "39bd7615",
   "metadata": {},
   "outputs": [],
   "source": [
    "# Put Images Together\n",
    "# Open First Image\n",
    "with fits.open('ESO137-001-F814W_drc.fits', mode='update') as hduList:\n",
    "\n",
    "    # Open Second Image\n",
    "    with fits.open('ESO137-001-F814W-exp_drc.fits') as expList:\n",
    "\n",
    "        # Update the Name of the IVM Map\n",
    "        hduList['WHT'].header.add_comment('Original weight image for file.')\n",
    "        hduList['WHT'].header['EXTNAME'] = 'WHT-IVM'\n",
    "\n",
    "        # Update the Name of the EXP Map\n",
    "        expList['WHT'].header['EXTNAME'] = 'WHT-EXP'\n",
    "\n",
    "        # Add the Exposure Map\n",
    "        hduList.insert(3, expList['WHT-EXP'])\n",
    "        hduList['WHT-EXP'].header.add_comment('Weight image added after file creation.')\n",
    "\n",
    "        # Save\n",
    "        hduList.flush()"
   ]
  },
  {
   "cell_type": "code",
   "execution_count": null,
   "id": "987a1dd3",
   "metadata": {},
   "outputs": [],
   "source": [
    "%%bash\n",
    "# Remove Exposure Image\n",
    "rm ESO137-001-F814W-exp_drc.fits"
   ]
  },
  {
   "cell_type": "markdown",
   "id": "7f467a6a-8c04-4c0d-87c2-cd4fa95890c3",
   "metadata": {},
   "source": [
    "### Drizzle Remaining Images to F814W"
   ]
  },
  {
   "cell_type": "code",
   "execution_count": null,
   "id": "b5d028a2-1248-4d93-b9b5-3d502c0909bc",
   "metadata": {
    "tags": []
   },
   "outputs": [],
   "source": [
    "# Loop through Filters\n",
    "for filter, fileList in fileNameDict.items():\n",
    "\n",
    "    # Skip F814W\n",
    "    if filter == 'F814W':\n",
    "        continue\n",
    "\n",
    "    # Varying Pixel Frac\n",
    "    pixfrac = 0.5 if filter != 'F475W' else FINAL_FRAC\n",
    "\n",
    "    # Drizzle Images\n",
    "    AstroDrizzle(\n",
    "        fileList,\n",
    "        output=f'ESO137-001-{filter}',\n",
    "        runfile=f'AstroDrizzle-{filter}.log',\n",
    "        wcskey='GAIA',\n",
    "        context=False,\n",
    "        configobj=None,\n",
    "        num_cores=12,\n",
    "        in_memory=False,\n",
    "        build=True,\n",
    "        restore=False,\n",
    "        preserve=False,\n",
    "        clean=True,\n",
    "        skymethod='globalmin+match',\n",
    "        driz_sep_scale=FINAL_SCALE,\n",
    "        driz_sep_bits=DQ_GOOD_PIX_ACS,\n",
    "        combine_type='minmed',\n",
    "        driz_cr_corr=False,\n",
    "        final_wht_type='IVM',\n",
    "        final_pixfrac=pixfrac,\n",
    "        final_bits=DQ_GOOD_PIX_ACS,\n",
    "        final_wcs=True,\n",
    "        final_rot=0,\n",
    "        final_scale=FINAL_SCALE,\n",
    "        final_refimage='ESO137-001-F814W_drc.fits'\n",
    "    )\n",
    "\n",
    "    # Drizzle Images with Exposure Map\n",
    "    AstroDrizzle(\n",
    "        fileList,\n",
    "        output=f'ESO137-001-{filter}-exp',\n",
    "        runfile=f'AstroDrizzle-{filter}.log',\n",
    "        wcskey='GAIA',\n",
    "        context=False,\n",
    "        configobj=None,\n",
    "        num_cores=8,\n",
    "        in_memory=False,\n",
    "        build=True,\n",
    "        restore=False,\n",
    "        preserve=False,\n",
    "        clean=True,\n",
    "        skymethod='globalmin+match',\n",
    "        driz_sep_scale=FINAL_SCALE,\n",
    "        driz_sep_bits=DQ_GOOD_PIX_ACS,\n",
    "        combine_type='minmed',\n",
    "        driz_cr_corr=False,\n",
    "        final_wht_type='EXP',\n",
    "        final_pixfrac=pixfrac,\n",
    "        final_bits=DQ_GOOD_PIX_ACS,\n",
    "        final_wcs=True,\n",
    "        final_rot=0,\n",
    "        final_scale=FINAL_SCALE,\n",
    "        final_refimage='ESO137-001-F814W_drc.fits'\n",
    "    )\n",
    "\n",
    "    # Put Images Together\n",
    "    # Open First Image\n",
    "    drType = 'c' if filter != 'F160W' else 'z'\n",
    "    with fits.open(f'ESO137-001-{filter}_dr{drType}.fits', mode='update') as hduList:\n",
    "\n",
    "        # Open Second Image\n",
    "        with fits.open(f'ESO137-001-{filter}-exp_dr{drType}.fits') as expList:\n",
    "\n",
    "            # Update the Name of the IVM Map\n",
    "            hduList['WHT'].header.add_comment('Original weight image for file.')\n",
    "            hduList['WHT'].header['EXTNAME'] = 'WHT-IVM'\n",
    "\n",
    "            # Update the Name of the EXP Map\n",
    "            expList['WHT'].header['EXTNAME'] = 'WHT-EXP'\n",
    "\n",
    "            # Add the Exposure Map\n",
    "            hduList.insert(3, expList['WHT-EXP'])\n",
    "            hduList['WHT-EXP'].header.add_comment('Weight image added after file creation.')\n",
    "\n",
    "            # Save\n",
    "            hduList.flush()"
   ]
  },
  {
   "cell_type": "code",
   "execution_count": null,
   "id": "b0dadaf1-5a4d-4032-87f8-15d3c0801ffb",
   "metadata": {
    "tags": []
   },
   "outputs": [],
   "source": [
    "%%bash\n",
    "# Clean Up\n",
    "mkdir -p logs/astrodrizzle\n",
    "mkdir -p ProccessedImages/HST/DrizzledImages\n",
    "mv AstroDrizzle-*.log logs/astrodrizzle/\n",
    "rm *-exp_drc.fits\n",
    "rm *-exp_drz.fits\n",
    "mv *.fits ProccessedImages/HST/DrizzledImages/"
   ]
  }
 ],
 "metadata": {
  "kernelspec": {
   "display_name": "stenv",
   "language": "python",
   "name": "python3"
  },
  "language_info": {
   "codemirror_mode": {
    "name": "ipython",
    "version": 3
   },
   "file_extension": ".py",
   "mimetype": "text/x-python",
   "name": "python",
   "nbconvert_exporter": "python",
   "pygments_lexer": "ipython3",
   "version": "3.12.9"
  }
 },
 "nbformat": 4,
 "nbformat_minor": 5
}
