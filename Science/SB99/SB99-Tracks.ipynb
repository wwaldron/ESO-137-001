{
 "cells": [
  {
   "cell_type": "markdown",
   "id": "0a70831f",
   "metadata": {},
   "source": [
    "# Starburst99 Tracks\n",
    "\n",
    "This notebook specifically outputs the tracks to an Astropy ECSV file."
   ]
  },
  {
   "cell_type": "markdown",
   "id": "47e07409",
   "metadata": {},
   "source": [
    "## Imports"
   ]
  },
  {
   "cell_type": "code",
   "execution_count": null,
   "id": "481f1184",
   "metadata": {},
   "outputs": [],
   "source": [
    "# Python Imports\n",
    "from pathlib import Path\n",
    "from tqdm.notebook import tqdm"
   ]
  },
  {
   "cell_type": "code",
   "execution_count": null,
   "id": "2ab2c9fc",
   "metadata": {},
   "outputs": [],
   "source": [
    "# Numerical Imports\n",
    "import numpy as np"
   ]
  },
  {
   "cell_type": "code",
   "execution_count": null,
   "id": "deca331c",
   "metadata": {},
   "outputs": [],
   "source": [
    "# Astropy Collab Imports\n",
    "from astropy import units as u\n",
    "from astropy.table import QTable\n",
    "\n",
    "from pysynphot import ObsBandpass"
   ]
  },
  {
   "cell_type": "code",
   "execution_count": null,
   "id": "77ea1836",
   "metadata": {},
   "outputs": [],
   "source": [
    "# Plotting Imports\n",
    "import matplotlib.pyplot as plt"
   ]
  },
  {
   "cell_type": "code",
   "execution_count": null,
   "id": "9ee05b51",
   "metadata": {},
   "outputs": [],
   "source": [
    "# Local Imports\n",
    "from ssp import Starburst99Spectrum, CloudySpectrum"
   ]
  },
  {
   "cell_type": "markdown",
   "id": "fb3dec02",
   "metadata": {},
   "source": [
    "## Notebook Setup"
   ]
  },
  {
   "cell_type": "code",
   "execution_count": null,
   "id": "5ec3bfde",
   "metadata": {},
   "outputs": [],
   "source": [
    "# Directories\n",
    "TOP_DIR = Path('../../').resolve()\n",
    "\n",
    "# Files\n",
    "SB99_FN = TOP_DIR / 'DoctoralWork/Data/Starburst99/Sims/TailSim0_Genv00_014/TailSim0_Genv00_014.spectrum1'\n",
    "CLDY_GLOB = TOP_DIR / 'DoctoralWork/Data/Cloudy/HII/Genv00_014_10Myr/rin_10pc/**/*.cont'"
   ]
  },
  {
   "cell_type": "code",
   "execution_count": null,
   "id": "49e49924",
   "metadata": {},
   "outputs": [],
   "source": [
    "# HST ACS-WFC Filters\n",
    "HST_ACS_WFC_FILTERS = [\n",
    "    'f435w', 'f475w', 'f502n', 'f550m', 'f555w', 'f606w', 'f625w', 'f658n',\n",
    "    'f660n', 'f775w', 'f814w', 'f850lp', 'f892n'\n",
    "]\n",
    "\n",
    "# HST WFC3-UVIS Filters\n",
    "HST_WFC3_UVIS_FILTERS = [\n",
    "    'f200lp', 'f218w', 'f225w', 'f275w', 'f280n', 'f300x', 'f336w', 'f343n',\n",
    "    'f350lp', 'f373n', 'f390m', 'f390w', 'f395n', 'f410m', 'f438w', 'f467m',\n",
    "    'f469n', 'f475w', 'f475x', 'f487n', 'f502n', 'f547m', 'f555w', 'f600lp',\n",
    "    'f606w', 'f621m', 'f625w', 'f631n', 'f645n', 'f656n', 'f657n', 'f658n',\n",
    "    'f665n', 'f673n', 'f680n', 'f689m', 'f763m', 'f775w', 'f814w', 'f845m',\n",
    "    'f850lp', 'f953n', 'fq232n', 'fq243n', 'fq378n', 'fq387n', 'fq422m',\n",
    "    'fq436n', 'fq437n', 'fq492n', 'fq508n', 'fq575n', 'fq619n', 'fq634n',\n",
    "    'fq672n', 'fq674n', 'fq727n', 'fq750n', 'fq889n', 'fq906n', 'fq924n',\n",
    "    'fq937n'\n",
    "]\n",
    "\n",
    "# HST WFC3-IR Filters\n",
    "HST_WFC3_IR_FILTERS = [\n",
    "    'f098m', 'f105w', 'f110w', 'f125w', 'f126n', 'f127m', 'f128n', 'f130n',\n",
    "    'f132n', 'f139m', 'f140w', 'f153m', 'f160w', 'f164n', 'f167n'\n",
    "]"
   ]
  },
  {
   "cell_type": "code",
   "execution_count": null,
   "id": "440569c7",
   "metadata": {},
   "outputs": [],
   "source": [
    "# Redshift\n",
    "REDSHIFT = 0.023997\n",
    "\n",
    "# Distance to Source\n",
    "LUMIN_DIST = 1.12e+2 * u.Mpc"
   ]
  },
  {
   "cell_type": "markdown",
   "id": "e63fe1a1",
   "metadata": {},
   "source": [
    "## Load SSP Models"
   ]
  },
  {
   "cell_type": "code",
   "execution_count": null,
   "id": "93c977b2",
   "metadata": {},
   "outputs": [],
   "source": [
    "# Load in Starburst99 and Mappings\n",
    "sbMod = Starburst99Spectrum(\n",
    "    str(SB99_FN), redshift=REDSHIFT, distToSrc=LUMIN_DIST.to_value('cm')\n",
    ")\n",
    "clMod = CloudySpectrum(\n",
    "    str(CLDY_GLOB), redshift=REDSHIFT, distToSrc=LUMIN_DIST.to_value('cm')\n",
    ")\n",
    "\n",
    "# Trim Sb99 and Make Composite Timeline\n",
    "stInd = np.flatnonzero(sbMod.years > 1e7)[0]  # 1e7 is ending year of Cloudy Model\n",
    "sbMod.years = sbMod.years[stInd:]\n",
    "sbMod.spectrumList = sbMod.spectrumList[stInd:]\n",
    "model = clMod + sbMod"
   ]
  },
  {
   "cell_type": "markdown",
   "id": "3dcd0bbf",
   "metadata": {},
   "source": [
    "## Convolve with *HST* Filters and Output"
   ]
  },
  {
   "cell_type": "code",
   "execution_count": null,
   "id": "63229b54",
   "metadata": {},
   "outputs": [],
   "source": [
    "# Define the HST ACS Bandpass Filters\n",
    "HST_BANDPASSES = {\n",
    "    f'ACS-WFC-{filt.upper()}': ObsBandpass(f'acs,wfc1,{filt}')\n",
    "    for filt in HST_ACS_WFC_FILTERS\n",
    "}\n",
    "\n",
    "# Add the WFC3-UVIS Filters\n",
    "HST_BANDPASSES.update({\n",
    "    f'WFC3-UVIS-{filt.upper()}': ObsBandpass(f'wfc3,uvis2,{filt}')\n",
    "    for filt in HST_WFC3_UVIS_FILTERS\n",
    "})\n",
    "\n",
    "# Add the WFC3-IR Filters\n",
    "HST_BANDPASSES.update({\n",
    "    f'WFC3-IR-{filt.upper()}': ObsBandpass(f'wfc3,ir,{filt}')\n",
    "    for filt in HST_WFC3_IR_FILTERS\n",
    "})"
   ]
  },
  {
   "cell_type": "code",
   "execution_count": null,
   "id": "4e0ce26b",
   "metadata": {},
   "outputs": [],
   "source": [
    "# Get the Magnitudes\n",
    "modelMags = {}\n",
    "modelMags['Age']   = model.years << u.yr\n",
    "modelMags['Age'] <<= u.Myr\n",
    "for obsMode, bandpass in tqdm(HST_BANDPASSES.items()):\n",
    "    modelMags[obsMode] = model.makeobservation(bandpass) << u.ABmag"
   ]
  },
  {
   "cell_type": "code",
   "execution_count": null,
   "id": "8e8100da",
   "metadata": {},
   "outputs": [],
   "source": [
    "# Covert to Astropy Table\n",
    "modelTable = QTable(\n",
    "    modelMags,\n",
    "    meta={'redshift': REDSHIFT, 'luminosity distance': LUMIN_DIST}\n",
    ")\n",
    "\n",
    "# Save to ECSV\n",
    "modelTable.write('Starburst99_Cloudy_Mags.ecsv', overwrite=True)\n",
    "modelTable.write(\n",
    "    'Starburst99_Cloudy_Mags.hdf5',\n",
    "    path='data',\n",
    "    serialize_meta=True,\n",
    "    overwrite=True\n",
    ")"
   ]
  }
 ],
 "metadata": {
  "kernelspec": {
   "display_name": "stenv",
   "language": "python",
   "name": "python3"
  },
  "language_info": {
   "codemirror_mode": {
    "name": "ipython",
    "version": 3
   },
   "file_extension": ".py",
   "mimetype": "text/x-python",
   "name": "python",
   "nbconvert_exporter": "python",
   "pygments_lexer": "ipython3",
   "version": "3.12.7"
  }
 },
 "nbformat": 4,
 "nbformat_minor": 5
}
