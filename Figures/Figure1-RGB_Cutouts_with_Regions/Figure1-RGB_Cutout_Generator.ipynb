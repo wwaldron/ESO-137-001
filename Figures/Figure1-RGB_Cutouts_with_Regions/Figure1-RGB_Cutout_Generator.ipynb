{
 "cells": [
  {
   "cell_type": "markdown",
   "id": "b4e7bf96",
   "metadata": {},
   "source": [
    "# RGB Region Cutout Generator\n",
    "\n",
    "See notes in Obsidian for full details.\n",
    "\n",
    "> Summary\n",
    ">\n",
    "> The astrometry for my *HST* images of ESO 137-001 in my [2023 ESO Paper](https://ui.adsabs.harvard.edu/abs/2023MNRAS.522..173W/abstract) for my Dissertation was off by a fraction of an arcsecond. The primary issue this creates is with Figure 1 from my ESO Paper. Ming would like me to fix Figure 1 in that paper along with any other issues that might have been introduced due to this error."
   ]
  },
  {
   "cell_type": "code",
   "execution_count": null,
   "id": "7c41bb4f",
   "metadata": {},
   "outputs": [],
   "source": [
    "# Imports\n",
    "from pathlib import Path\n",
    "from warnings import catch_warnings, simplefilter\n",
    "import itertools\n",
    "from itertools import combinations_with_replacement as cwr\n",
    "\n",
    "# Numerical Imports\n",
    "import numpy as np\n",
    "from scipy import ndimage\n",
    "\n",
    "# Astropy Collab Imports\n",
    "from astropy.io import fits\n",
    "from astropy.wcs import WCS\n",
    "from astropy.wcs.utils import proj_plane_pixel_scales as pixscale\n",
    "from astropy.nddata import Cutout2D\n",
    "from astropy.coordinates import FK5, SkyCoord\n",
    "from astropy import units as u\n",
    "from astropy import visualization as avis\n",
    "import regions\n",
    "\n",
    "# Plotting Imports\n",
    "from matplotlib import pyplot as plt\n",
    "from matplotlib.patches import Circle, Ellipse, FancyArrowPatch\n",
    "from tqdm import tqdm"
   ]
  },
  {
   "cell_type": "markdown",
   "id": "20da35c4",
   "metadata": {},
   "source": [
    "## Notebook Setup\n",
    "\n",
    "### Pixel Scale"
   ]
  },
  {
   "cell_type": "code",
   "execution_count": null,
   "id": "e97b7389",
   "metadata": {},
   "outputs": [],
   "source": [
    "# Create the Equivalencies\n",
    "equivs  = u.pixel_scale(0.03 * u.arcsec / u.pixel)\n",
    "equivs += u.pixel_scale(101.93679918450562 * u.pixel / u.kpc)\n",
    "\n",
    "# Add the Equivalencies to the Astropy Units for this Notebook\n",
    "_ = u.set_enabled_equivalencies(equivs)"
   ]
  },
  {
   "cell_type": "markdown",
   "id": "1dfdaca3",
   "metadata": {},
   "source": [
    "### Directories and Files"
   ]
  },
  {
   "cell_type": "code",
   "execution_count": null,
   "id": "95d39a33",
   "metadata": {},
   "outputs": [],
   "source": [
    "# Directories\n",
    "PARENT_DIR = Path('../../').resolve()\n",
    "IMG_DIR = PARENT_DIR / 'Images/ProcessedImages/HST/Drizzled'\n",
    "OLD_ALL_REG_DIR = PARENT_DIR / 'DoctoralWork/MAST_DATA/WaldronPipeline/DS9'\n",
    "REG_DIR = OLD_ALL_REG_DIR / 'Paper1/Regions'\n",
    "OUT_DIR = Path('Cutouts')\n",
    "ALM_DIR = PARENT_DIR / 'DoctoralWork/ALMA'"
   ]
  },
  {
   "cell_type": "code",
   "execution_count": null,
   "id": "e1c5bb45",
   "metadata": {},
   "outputs": [],
   "source": [
    "# Image File Names\n",
    "IMG_FNS = {}\n",
    "for filter in [275, 475, 814]:\n",
    "    IMG_FNS[filter] = IMG_DIR / f'ESO137-001-F{filter:3d}W_drc.fits'\n",
    "\n",
    "# ALMA Image\n",
    "ALMA_IMG_FN = ALM_DIR / 'new_mom0.fits'"
   ]
  },
  {
   "cell_type": "code",
   "execution_count": null,
   "id": "fa11e5bf",
   "metadata": {},
   "outputs": [],
   "source": [
    "# Region File Names\n",
    "REG_FN_IMG = REG_DIR / 'Paper1-Fig1Regions-img.reg'\n",
    "REG_FN_FK5 = REG_DIR / 'Paper1-Fig1Regions-fk5.reg'"
   ]
  },
  {
   "cell_type": "code",
   "execution_count": null,
   "id": "bb86db7a",
   "metadata": {},
   "outputs": [],
   "source": [
    "# Alma Contour Levels\n",
    "ALMA_CONTOUR_LEVELS = [0.03, 0.06, 0.12]"
   ]
  },
  {
   "cell_type": "code",
   "execution_count": null,
   "id": "591feb08",
   "metadata": {},
   "outputs": [],
   "source": [
    "# Arrow on Cutouts\n",
    "ARROW_LENGTH = (0.25 * u.kpc).to('pix').value"
   ]
  },
  {
   "cell_type": "markdown",
   "id": "d6f54574",
   "metadata": {},
   "source": [
    "## Load Data\n",
    "\n",
    "### Load Region Files"
   ]
  },
  {
   "cell_type": "code",
   "execution_count": null,
   "id": "277116f3",
   "metadata": {},
   "outputs": [],
   "source": [
    "# The Defined Figure 1 Regions\n",
    "# ds9ImgRegs = regions.Regions.read(REG_FN_IMG)\n",
    "ds9FK5Regs = regions.Regions.read(REG_FN_FK5)\n",
    "\n",
    "# The HII Regions\n",
    "hiiRegs = regions.Regions.read(OLD_ALL_REG_DIR / 'eso137_001_HII_region.reg')\n",
    "\n",
    "# XRay Images\n",
    "xrayRegs = regions.Regions.read(OLD_ALL_REG_DIR / 'sun-XRay-fk5.reg')"
   ]
  },
  {
   "cell_type": "markdown",
   "id": "452605aa",
   "metadata": {},
   "source": [
    "### Load ALMA Image"
   ]
  },
  {
   "cell_type": "code",
   "execution_count": null,
   "id": "75255229",
   "metadata": {},
   "outputs": [],
   "source": [
    "alma = {}\n",
    "with fits.open(ALMA_IMG_FN) as hduList, catch_warnings():\n",
    "    simplefilter('ignore')\n",
    "\n",
    "    # Get Image and Header\n",
    "    alma['img'] = hduList[0].data\n",
    "    alma['hdr'] = hduList[0].header\n",
    "\n",
    "    # Remove Non-Existent WCS Info\n",
    "    for i, key in itertools.product([3, 4], ['CTYPE', 'CRVAL', 'CDELT', 'CRPIX', 'CUNIT']):\n",
    "        alma['hdr'].remove(key + str(i))\n",
    "\n",
    "    # Remove Other Transform Stuff\n",
    "    for i, j in cwr(range(1, 5), 2):\n",
    "        if not (i in [1, 2] and j in [1, 2]):\n",
    "            alma['hdr'].remove(f'PC0{i}_0{j}')\n",
    "            alma['hdr'].remove(f'PC0{j}_0{i}', ignore_missing=True)\n",
    "\n",
    "    # Setup the WCS\n",
    "    alma['wcs'] = WCS(alma['hdr'])"
   ]
  },
  {
   "cell_type": "markdown",
   "id": "5cc30755",
   "metadata": {},
   "source": [
    "### Load *HST* Images"
   ]
  },
  {
   "cell_type": "code",
   "execution_count": null,
   "id": "7605082a",
   "metadata": {},
   "outputs": [],
   "source": [
    "# Init Images\n",
    "imgs = {}\n",
    "\n",
    "# Load Loop\n",
    "for filter, fn in IMG_FNS.items():\n",
    "\n",
    "    # Get the Image\n",
    "    with fits.open(fn) as hduList:\n",
    "\n",
    "        imgs[filter] = hduList['SCI'].data\n",
    "        if filter == 475:\n",
    "            mainWCS = WCS(hduList['SCI'].header)"
   ]
  },
  {
   "cell_type": "markdown",
   "id": "d4658f11",
   "metadata": {},
   "source": [
    "### Filter Images"
   ]
  },
  {
   "cell_type": "code",
   "execution_count": null,
   "id": "52e933cf",
   "metadata": {},
   "outputs": [],
   "source": [
    "# Filter\n",
    "fImgs = {\n",
    "    275: ndimage.gaussian_filter(imgs[275], sigma=1),\n",
    "    475: ndimage.gaussian_filter(imgs[475], sigma=1),\n",
    "    814: ndimage.gaussian_filter(imgs[814], sigma=1),\n",
    "}"
   ]
  },
  {
   "cell_type": "markdown",
   "id": "83ccb6fb",
   "metadata": {},
   "source": [
    "### Normalize Images"
   ]
  },
  {
   "cell_type": "code",
   "execution_count": null,
   "id": "fda1c949",
   "metadata": {},
   "outputs": [],
   "source": [
    "# Close\n",
    "plt.close('all')\n",
    "\n",
    "# Init\n",
    "nImgs = {}\n",
    "\n",
    "# F275W\n",
    "norm = avis.ManualInterval(     1e-6, 0.0498653) + avis.LogStretch(30)# + avis.AsymmetricPercentileInterval(5, 100)\n",
    "nImgs[275] = norm(fImgs[275])\n",
    "\n",
    "# F475W\n",
    "norm = avis.ManualInterval(0.0050/100, 0.602034) + avis.LogStretch(30)\n",
    "nImgs[475] = norm(fImgs[475])\n",
    "\n",
    "# F814W\n",
    "norm = avis.ManualInterval(0.0055/100, 0.729401) + avis.LogStretch(30)\n",
    "nImgs[814] = norm(fImgs[814])\n",
    "\n",
    "# Get the Composite Image\n",
    "r, g, b = nImgs[814], nImgs[475], nImgs[275]\n",
    "cImg    = np.dstack((r, g, b))\n",
    "cImg40  = np.dstack((r, g, g))"
   ]
  },
  {
   "cell_type": "markdown",
   "id": "667edf13",
   "metadata": {},
   "source": [
    "## Plot"
   ]
  },
  {
   "cell_type": "code",
   "execution_count": null,
   "id": "2a98028f",
   "metadata": {},
   "outputs": [],
   "source": [
    "# Region File Name Format\n",
    "outFmt = OUT_DIR / 'Region{:02d}.png'\n",
    "\n",
    "# Get the Axes\n",
    "fig = plt.figure(figsize=(97/72, 97/72), dpi=300)\n",
    "ax = fig.add_subplot(1, 1, 1, projection=mainWCS)\n",
    "fig.add_axes(ax)\n",
    "_ = ax.set_title('')\n",
    "_ = ax.axis('off')\n",
    "_ = ax.set_position((0, 0, 1, 1))\n",
    "\n",
    "# Plot the Image\n",
    "axImg = ax.imshow(cImg, zorder=0)\n",
    "\n",
    "# Plot the HII Regions\n",
    "rad  = (0.4 * u.arcsec).to('pix').value\n",
    "for reg in hiiRegs:\n",
    "\n",
    "    # Get the Coords\n",
    "    xy = np.array(mainWCS.world_to_pixel(reg.center))\n",
    "\n",
    "    # Plot the Circle\n",
    "    cir = Circle(\n",
    "        xy, rad, linestyle=(0, (3, 2)), linewidth=1,\n",
    "        ec='w', fill=False, zorder=3\n",
    "    )\n",
    "\n",
    "    # Add\n",
    "    ax.add_patch(cir)\n",
    "\n",
    "# Plot the Chandra XRay Sources\n",
    "rad  = (0.5 * u.arcsec).to('pix').value\n",
    "for reg in xrayRegs:\n",
    "\n",
    "    # Get the Coords\n",
    "    xy = np.array(mainWCS.world_to_pixel(reg.center))\n",
    "\n",
    "    # Plot the Circle\n",
    "    cir = Circle(\n",
    "        xy, rad, linestyle=(0, (1, 1)), linewidth=1,\n",
    "        ec=(0, 1, 1), fill=False, zorder=2\n",
    "    )\n",
    "\n",
    "    # Add\n",
    "    ax.add_patch(cir)\n",
    "\n",
    "# Set the Cutout Limits\n",
    "for i, reg in tqdm(enumerate(ds9FK5Regs)):\n",
    "\n",
    "    # Plot the ALt Image for Region 40\n",
    "    if i+1 == 40:\n",
    "        axImg.set_visible(False)\n",
    "        _ = ax.imshow(cImg40, zorder=0, transform=ax.get_transform(mainWCS))\n",
    "\n",
    "    # Get the Cutout Coordinates\n",
    "    w = reg.width.to(u.deg).value\n",
    "    h = reg.height.to(u.deg).value\n",
    "\n",
    "    # Add ALMA CO Contours\n",
    "    alma['cut'] = Cutout2D(\n",
    "        alma['img'], reg.center, (h, w)*u.deg + 1*u.arcsec, wcs=alma['wcs']\n",
    "    )\n",
    "    if i+1 !=24:\n",
    "        alma['fil'] = ndimage.gaussian_filter(alma['cut'].data, sigma=0.75)\n",
    "    else:\n",
    "        alma['fil'] = alma['cut'].data\n",
    "    if np.any(np.histogram(alma['fil'], ALMA_CONTOUR_LEVELS)[1:-1]):\n",
    "        ax.contour(\n",
    "            alma['fil'],\n",
    "            levels=ALMA_CONTOUR_LEVELS,\n",
    "            colors='xkcd:magenta', linewidths=1, zorder=1,\n",
    "            transform=ax.get_transform(alma['cut'].wcs)\n",
    "        )\n",
    "\n",
    "    # Convert to Image\n",
    "    x, y = mainWCS.world_to_pixel(reg.center)\n",
    "    w   /= pixscale(mainWCS)[0]\n",
    "    h   /= pixscale(mainWCS)[0]\n",
    "    xMin, xMax = x-w/2, x+w/2\n",
    "    yMin, yMax = y-h/2, y+h/2\n",
    "\n",
    "    # Add the Scale Arrow\n",
    "    arr = FancyArrowPatch(\n",
    "        (xMin+w/10, yMin+w/10),\n",
    "        (xMin+w/10+ARROW_LENGTH, yMin+w/10),\n",
    "        ec='w', arrowstyle='|-|', capstyle='butt', lw=0.75, zorder=4\n",
    "    )\n",
    "    ax.add_patch(arr)\n",
    "\n",
    "    # Set the Limits\n",
    "    _ = ax.set_xlim(xMin, xMax)\n",
    "    _ = ax.set_ylim(yMin, yMax)\n",
    "\n",
    "    # Save the Cutout\n",
    "    fig.savefig(str(outFmt).format(i+1))"
   ]
  }
 ],
 "metadata": {
  "kernelspec": {
   "display_name": "stenv",
   "language": "python",
   "name": "python3"
  },
  "language_info": {
   "codemirror_mode": {
    "name": "ipython",
    "version": 3
   },
   "file_extension": ".py",
   "mimetype": "text/x-python",
   "name": "python",
   "nbconvert_exporter": "python",
   "pygments_lexer": "ipython3",
   "version": "3.12.7"
  }
 },
 "nbformat": 4,
 "nbformat_minor": 5
}
