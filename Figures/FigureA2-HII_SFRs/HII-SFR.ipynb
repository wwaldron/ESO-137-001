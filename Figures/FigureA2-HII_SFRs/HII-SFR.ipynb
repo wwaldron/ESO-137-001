{
 "cells": [
  {
   "cell_type": "markdown",
   "id": "bba8a8cb",
   "metadata": {},
   "source": [
    "# ESO 137-001 - HII SFRs\n",
    "\n",
    "This notebook is to tabulate the SFR for the HII regions in ESO 137-001. For further information\n",
    "see my `Tabulating ESO 137-001 SFR` note in Obsidian."
   ]
  },
  {
   "cell_type": "markdown",
   "id": "5a6c9e0f",
   "metadata": {},
   "source": [
    "## Imports"
   ]
  },
  {
   "cell_type": "code",
   "execution_count": null,
   "id": "543b4127",
   "metadata": {},
   "outputs": [],
   "source": [
    "# Python Imports\n",
    "from pathlib import Path\n",
    "from functools import reduce\n",
    "from tqdm.notebook import tqdm"
   ]
  },
  {
   "cell_type": "code",
   "execution_count": null,
   "id": "aa5756ba",
   "metadata": {},
   "outputs": [],
   "source": [
    "# Numerical Imports\n",
    "import numpy as np\n",
    "from scipy.interpolate import interp1d\n",
    "import pandas as pd"
   ]
  },
  {
   "cell_type": "code",
   "execution_count": null,
   "id": "d74b6c21",
   "metadata": {},
   "outputs": [],
   "source": [
    "# Astropy Collaboration Imports\n",
    "from astropy import units as u, uncertainty as unc\n",
    "from astropy.io import fits\n",
    "from astropy.wcs import WCS\n",
    "from astropy.table import QTable\n",
    "from astropy.coordinates import SkyCoord\n",
    "\n",
    "import regions\n",
    "\n",
    "from pysynphot import ObsBandpass"
   ]
  },
  {
   "cell_type": "code",
   "execution_count": null,
   "id": "5d3604c7",
   "metadata": {},
   "outputs": [],
   "source": [
    "# Plotting Imports\n",
    "from matplotlib import pyplot as plt"
   ]
  },
  {
   "cell_type": "code",
   "execution_count": null,
   "id": "ecdd24ea",
   "metadata": {},
   "outputs": [],
   "source": [
    "# Local Imports\n",
    "from ssp import Starburst99Spectrum, CloudySpectrum"
   ]
  },
  {
   "cell_type": "markdown",
   "id": "6d43d701",
   "metadata": {},
   "source": [
    "## Functions"
   ]
  },
  {
   "cell_type": "code",
   "execution_count": null,
   "id": "cf676b75",
   "metadata": {},
   "outputs": [],
   "source": [
    "# Check to see if an array is sorted without repeats\n",
    "def is_sorted_no_repeats(arr):\n",
    "    return np.all(arr[:-1] < arr[1:])"
   ]
  },
  {
   "cell_type": "code",
   "execution_count": null,
   "id": "5b8decff",
   "metadata": {},
   "outputs": [],
   "source": [
    "def cal00(wave, ebv=0.0, rvp=4.05):\n",
    "    '''Calculates reddening according to Calzetti's 2000 Paper\n",
    "    '''\n",
    "\n",
    "    # Setup k\n",
    "    wave = np.asanyarray(wave)\n",
    "    k = np.empty_like(wave)\n",
    "\n",
    "    # Get Waves below/above 0.63 microns\n",
    "    msk = wave < 0.63\n",
    "    waveLow  = wave[msk]\n",
    "    waveHigh = wave[~msk]\n",
    "\n",
    "    # Get k values below 0.63 microns\n",
    "    if msk.any():\n",
    "        k[msk] = rvp + 2.659*(-2.156 + 1.509/waveLow - 0.198/waveLow**2 +\n",
    "                              0.011/waveLow**3)\n",
    "\n",
    "    # Get k values above 0.63 microns\n",
    "    if not msk.all():\n",
    "        k[~msk] = rvp + 2.659*(-1.857 + 1.04/waveHigh)\n",
    "\n",
    "    return k, ebv * k"
   ]
  },
  {
   "cell_type": "code",
   "execution_count": null,
   "id": "3da824ed",
   "metadata": {},
   "outputs": [],
   "source": [
    "def unc_euclidean_inds(\n",
    "    eX: unc.Distribution, eY: unc.Distribution,\n",
    "    tX: np.ndarray, tY: np.ndarray, yrs: np.ndarray\n",
    "):\n",
    "\n",
    "    # Get Inds\n",
    "    inds, yrEsts = [], []\n",
    "    for x, y in tqdm(tuple(zip(eX, eY))):\n",
    "\n",
    "        # Get the Distance of Each MC Point to Each Track Point\n",
    "        dists = np.sqrt((x-tX)**2 + (y-tY)**2)\n",
    "\n",
    "        # Get the Matching Index (Index of Minimum distance)\n",
    "        # for Each MC Point to the track\n",
    "        i = np.argmin(dists.distribution, axis=0)\n",
    "        inds.append(i)\n",
    "\n",
    "        # Get the Year Ests\n",
    "        yrEsts.append(yrs[i])\n",
    "\n",
    "    # Return Dists\n",
    "    return np.array(inds), unc.Distribution(yrEsts) * yrs.unit"
   ]
  },
  {
   "cell_type": "code",
   "execution_count": null,
   "id": "ba4c8ab0",
   "metadata": {},
   "outputs": [],
   "source": [
    "# SFR Scalar\n",
    "HA_SFR_SCLR = 10**-41.257 * u.M_sun / u.yr / (u.erg/u.s)\n",
    "# Ha SFR\n",
    "@u.quantity_input(luminHA=u.erg/u.s)\n",
    "def ha_sfr(luminHA) -> u.M_sun / u.yr:\n",
    "    return HA_SFR_SCLR * luminHA"
   ]
  },
  {
   "cell_type": "markdown",
   "id": "865e8ec8",
   "metadata": {},
   "source": [
    "## Notebook Setup"
   ]
  },
  {
   "cell_type": "code",
   "execution_count": null,
   "id": "45e90fc7",
   "metadata": {},
   "outputs": [],
   "source": [
    "# Seed RNG\n",
    "np.random.seed(0)\n",
    "\n",
    "# Numpy Warnings\n",
    "_ = np.seterr(invalid='ignore', divide='ignore')"
   ]
  },
  {
   "cell_type": "code",
   "execution_count": null,
   "id": "947dc0cf",
   "metadata": {},
   "outputs": [],
   "source": [
    "# Directories\n",
    "TOP_DIR = Path('../../').resolve()\n",
    "IMG_DIR = TOP_DIR / 'Images/ProcessedImages/HST/Drizzled'\n",
    "CAT_DIR = TOP_DIR / 'Science/SExtractor/Catalogs'\n",
    "REG_DIR = Path(IMG_DIR / '../DS9').resolve()\n",
    "OLD_REG_DIR = TOP_DIR / 'DoctoralWork/Images/MAST_DATA/WaldronPipeline/DS9'\n",
    "OUT_DIR = Path('Results').resolve()\n",
    "\n",
    "# Files\n",
    "GAIA_REG_FILE  = TOP_DIR / 'Data/GAIA/ESO137-001-GAIA-AlignmentStars-Coordinates.reg'\n",
    "OLD_475_IMG_FN = TOP_DIR / 'DoctoralWork/Images/MAST_DATA/WaldronPipeline/CleanedImages/F475W_drc_chip_cleaned.fits'\n",
    "MUSE_FN = TOP_DIR / 'DoctoralWork/Data/ESO_137-001/MUSE/HII_EW_Properties-updated-corrected-cleaned.json'\n",
    "SB99_FN = TOP_DIR / 'DoctoralWork/Data/Starburst99/Sims/TailSim0_Genv00_014/TailSim0_Genv00_014.spectrum1'\n",
    "CLDY_GLOB = TOP_DIR / 'DoctoralWork/Data/Cloudy/HII/Genv00_014_10Myr/rin_10pc/**/*.cont'"
   ]
  },
  {
   "cell_type": "code",
   "execution_count": null,
   "id": "73a1b19a",
   "metadata": {},
   "outputs": [],
   "source": [
    "# Image File Names\n",
    "FILTERS = [275, 475, 814]\n",
    "IMG_FNS = {filt: IMG_DIR / f'ESO137-001-F{filt}W_drc.fits' for filt in FILTERS}"
   ]
  },
  {
   "cell_type": "code",
   "execution_count": null,
   "id": "00fe0a58",
   "metadata": {},
   "outputs": [],
   "source": [
    "# Get the Old WCS\n",
    "OLD_WCS = WCS(fits.getheader(OLD_475_IMG_FN, 'SCI'))\n",
    "\n",
    "# Get the New WCS\n",
    "NEW_WCS = WCS(fits.getheader(IMG_FNS[475], 'SCI'))"
   ]
  },
  {
   "cell_type": "code",
   "execution_count": null,
   "id": "13ae3e48",
   "metadata": {},
   "outputs": [],
   "source": [
    "# Units\n",
    "distToSrc = 69.6 * u.Mpc\n",
    "MAX_SEP = 0.2 * u.arcsec\n",
    "\n",
    "# Uncertainty Samples\n",
    "N_SAMPLES = int(1e5)\n",
    "\n",
    "# Median Av\n",
    "CORRECTION_FACTOR = 0.44\n",
    "MED_AV = CORRECTION_FACTOR*unc.normal(0.72, std=0.2, n_samples=N_SAMPLES)\n",
    "\n",
    "# Image Scale\n",
    "_ = u.set_enabled_equivalencies(\n",
    "    u.pixel_scale(0.03 * u.arcsec / u.pixel) +\n",
    "    u.pixel_scale(101.93679918450562 * u.pixel / u.kpc)\n",
    ")\n",
    "\n",
    "# Valid Galaxy Sources\n",
    "# These are defined in the OLD WCS and are converted to the NEW WCS\n",
    "VALID_GALAXY_COORDS = SkyCoord.from_pixel(*SkyCoord(\n",
    "    ra=[243.3638605, 243.3640097, 243.3641405, 243.3631407, 243.3632252],\n",
    "    dec=[-60.7633313, -60.7641447, -60.7643351, -60.7645508, -60.7648934],\n",
    "    unit=(u.deg, u.deg),\n",
    "    frame='fk5'\n",
    ").to_pixel(OLD_WCS), wcs=NEW_WCS)"
   ]
  },
  {
   "cell_type": "code",
   "execution_count": null,
   "id": "e843c9a0",
   "metadata": {},
   "outputs": [],
   "source": [
    "ESO_ZP_TABLE = QTable.read('001-ZeroPointTable.ecsv')\n",
    "ESO_ZP_TABLE"
   ]
  },
  {
   "cell_type": "markdown",
   "id": "e9c67987",
   "metadata": {},
   "source": [
    "## Load the MUSE Data"
   ]
  },
  {
   "cell_type": "code",
   "execution_count": null,
   "id": "f5954b62",
   "metadata": {},
   "outputs": [],
   "source": [
    "# Load in the Fossati EWs\n",
    "museTable = pd.read_json(MUSE_FN)\n",
    "\n",
    "# Get Coordinates\n",
    "museCrd = SkyCoord(\n",
    "    ra=museTable['RA'],\n",
    "    dec=museTable['DEC'],\n",
    "    unit=u.deg,\n",
    "    frame='fk5'\n",
    ")\n",
    "\n",
    "# Set NaN Av to 0\n",
    "museTable.loc[np.isnan(museTable['Av']), 'Av'] = 0\n",
    "museTable.loc[np.isnan(museTable['Av_err']), 'Av_err'] = 0\n",
    "\n",
    "# Get MUSE Luminosity\n",
    "fHaUnit     = 1e-20*u.erg/u.s/u.cm**2\n",
    "toLuminUnit = 4*np.pi*distToSrc**2\n",
    "museLumin = unc.normal(\n",
    "    museTable['fHa_cor'].values,\n",
    "    std=museTable['fHa_cor_err'].values,\n",
    "    n_samples=N_SAMPLES\n",
    ")*fHaUnit*toLuminUnit\n",
    "museLumin <<= (u.erg/u.s)"
   ]
  },
  {
   "cell_type": "markdown",
   "id": "2b200786",
   "metadata": {},
   "source": [
    "## Load SSP Models"
   ]
  },
  {
   "cell_type": "code",
   "execution_count": null,
   "id": "9376a6a1",
   "metadata": {},
   "outputs": [],
   "source": [
    "# Load in Starburst99 and Mappings\n",
    "sbMod = Starburst99Spectrum(\n",
    "    str(SB99_FN), redshift=0.0163, distToSrc=distToSrc.to_value('cm')\n",
    ")\n",
    "clMod = CloudySpectrum(\n",
    "    str(CLDY_GLOB), redshift=0.0163, distToSrc=distToSrc.to_value('cm')\n",
    ")\n",
    "\n",
    "# Trim Sb99 and Make Composite Timeline\n",
    "stInd = np.flatnonzero(sbMod.years > 1e7)[0]  # 1e7 is ending year of Cloudy Model\n",
    "sbMod.years = sbMod.years[stInd:]\n",
    "sbMod.spectrumList = sbMod.spectrumList[stInd:]\n",
    "model = clMod + sbMod\n",
    "\n",
    "## Interpolation\n",
    "# yrs = 1e6*np.arange(1, 999, 0.1) * u.yr\n",
    "yrs = np.geomspace(1, 998, 1000) * u.Myr\n",
    "yrs = yrs.to('yr')"
   ]
  },
  {
   "cell_type": "code",
   "execution_count": null,
   "id": "994a83af",
   "metadata": {},
   "outputs": [],
   "source": [
    "# Load Filters\n",
    "filts = {\n",
    "    275:ObsBandpass('wfc3,uvis2,f275w'),\n",
    "    475:ObsBandpass('acs,wfc1,f475w'  ),\n",
    "    814:ObsBandpass('acs,wfc1,f814w'  )\n",
    "}\n",
    "\n",
    "# Get the Magnitude for Each Filter\n",
    "trkMags = {}\n",
    "for filt in filts:\n",
    "    trkMags[filt] = model.makeobservation(filts[filt])"
   ]
  },
  {
   "cell_type": "code",
   "execution_count": null,
   "id": "6c45da93",
   "metadata": {},
   "outputs": [],
   "source": [
    "# Plot the Track for Assurance\n",
    "plt.close('all')\n",
    "fig, ax = plt.subplots()\n",
    "_ = ax.plot(\n",
    "    trkMags[275] - trkMags[475],\n",
    "    trkMags[475] - trkMags[814]\n",
    ")"
   ]
  },
  {
   "cell_type": "markdown",
   "id": "b17ad3d8",
   "metadata": {},
   "source": [
    "## Load Catalogs"
   ]
  },
  {
   "cell_type": "code",
   "execution_count": null,
   "id": "7bcc4782",
   "metadata": {},
   "outputs": [],
   "source": [
    "# Get the Single Image Catalogs\n",
    "singleImgCats = {\n",
    "    filt: QTable.read(CAT_DIR / f'ESO_F{filt}WxF{filt}W.cat', format='ascii.sextractor')\n",
    "    for filt in FILTERS\n",
    "}\n",
    "\n",
    "# Get the Detection Coordinates\n",
    "detCrds = {\n",
    "    filt: SkyCoord(\n",
    "        ra=cat['X_WORLD'],\n",
    "        dec=cat['Y_WORLD'],\n",
    "        frame='fk5'\n",
    "    )\n",
    "    for filt, cat in singleImgCats.items()\n",
    "}\n",
    "\n",
    "# Get the Dual Image Catalogs\n",
    "# Use F475W as the detection image\n",
    "dualImgCats = {\n",
    "    filt: QTable.read(CAT_DIR / f'ESO_F475WxF{filt}W.cat', format='ascii.sextractor')\n",
    "    for filt in FILTERS\n",
    "}"
   ]
  },
  {
   "cell_type": "markdown",
   "id": "931c770d",
   "metadata": {},
   "source": [
    "### Trim by Correlation\n",
    "\n",
    "Now, we only want to keep (in the dual catalogs) the two and three band detects."
   ]
  },
  {
   "cell_type": "code",
   "execution_count": null,
   "id": "81318e3b",
   "metadata": {},
   "outputs": [],
   "source": [
    "# Get the F275W/F475W Correlated Sources\n",
    "idx275, sep, _ = detCrds[275].match_to_catalog_sky(detCrds[475])\n",
    "idx275 = idx275[sep <= MAX_SEP]\n",
    "\n",
    "# Get the F814W/F475W Correlated Sources\n",
    "idx814, sep, _ = detCrds[814].match_to_catalog_sky(detCrds[475])\n",
    "idx814 = idx814[sep <= MAX_SEP]\n",
    "\n",
    "# The Intersection of the Two are the Three Band Detections\n",
    "idx3Band = np.intersect1d(idx275, idx814)\n",
    "\n",
    "# Get the Two Band Detections that are not in the Three Band Detections\n",
    "idx2Lower = np.setdiff1d(idx275, idx3Band)\n",
    "idx2Upper = np.setdiff1d(idx814, idx3Band)"
   ]
  },
  {
   "cell_type": "code",
   "execution_count": null,
   "id": "b1b57927",
   "metadata": {},
   "outputs": [],
   "source": [
    "# Mark these Correlations in the F475W catalog\n",
    "dualImgCats[475]['CORR'] = np.zeros(len(dualImgCats[475]), dtype=int)\n",
    "dualImgCats[475]['CORR'][idx3Band] = 275+475+814\n",
    "dualImgCats[475]['CORR'][idx2Lower] = 275+475\n",
    "dualImgCats[475]['CORR'][idx2Upper] = 475+814\n",
    "\n",
    "# Get/Keep the Union of all Correlated Sources\n",
    "allCorrInds = reduce(np.union1d, [idx3Band, idx2Lower, idx2Upper])\n",
    "for filt, cat in dualImgCats.items():\n",
    "    dualImgCats[filt] = cat[allCorrInds]"
   ]
  },
  {
   "cell_type": "markdown",
   "id": "df7b2a0c",
   "metadata": {},
   "source": [
    "### Remove MW Stars"
   ]
  },
  {
   "cell_type": "code",
   "execution_count": null,
   "id": "53d63665",
   "metadata": {},
   "outputs": [],
   "source": [
    "# Get the Source Coordinates\n",
    "srcCrds = SkyCoord(\n",
    "    ra=dualImgCats[475]['X_WORLD'],\n",
    "    dec=dualImgCats[475]['Y_WORLD'],\n",
    "    frame='fk5'\n",
    ")\n",
    "\n",
    "# Get the MW Star Locations\n",
    "mwStarCrds = SkyCoord([\n",
    "    reg.center for reg in regions.Regions.read(GAIA_REG_FILE)\n",
    "])\n",
    "\n",
    "# For the Source Coordinates and the Catalogs\n",
    "# Only Keep those that are not MW Stars\n",
    "# Only Keep things that are not within 15 pixels of a MW Star\n",
    "_, sep, _ = srcCrds.match_to_catalog_sky(mwStarCrds)\n",
    "srcCrds = srcCrds[sep > 15 * u.pix]\n",
    "dualImgCats = {\n",
    "    filt: cat[sep > 15 * u.pix] for filt, cat in dualImgCats.items()\n",
    "}"
   ]
  },
  {
   "cell_type": "markdown",
   "id": "2d8d8931",
   "metadata": {},
   "source": [
    "### Remove by Brightness & Color"
   ]
  },
  {
   "cell_type": "code",
   "execution_count": null,
   "id": "908d76e0",
   "metadata": {},
   "outputs": [],
   "source": [
    "# Fix the MAG_APER Columns\n",
    "for filt, cat in dualImgCats.items():\n",
    "\n",
    "    # Get the Filter Row\n",
    "    row = ESO_ZP_TABLE[ESO_ZP_TABLE['index'] == filt]\n",
    "\n",
    "    # Get the New Mag\n",
    "    cat['MAG_APER_AB']  = u.Magnitude(cat['FLUX_APER']) + row['ZP_AB']\n",
    "    cat['MAG_APER_AB'] -= row['GalExt'] + row['ApCor'] + row['KCor']\n",
    "\n",
    "    # Get the New Mag Err\n",
    "    cat['MAGERR_APER_AB']  = 2.5 / np.log(10) * cat['FLUXERR_APER'] / cat['FLUX_APER']\n",
    "    cat['MAGERR_APER_AB'] /= row['DrizCor']\n",
    "    cat['MAGERR_APER_AB']  = cat['MAGERR_APER_AB'].value << u.mag\n",
    "    cat['MAGERR_APER_AB'][cat['FLUXERR_APER'] > cat['FLUX_APER']] = np.nan"
   ]
  },
  {
   "cell_type": "code",
   "execution_count": null,
   "id": "ae2a32bd",
   "metadata": {},
   "outputs": [],
   "source": [
    "# Set the Magnitude Cutoffs\n",
    "MAG_CUTS = {\n",
    "    475: 20.45 - 1 << u.AB,\n",
    "    814: 20.4 << u.AB,  # Based on Color-Mag Diagram\n",
    "}\n",
    "\n",
    "# Apply the Magnitude Cutoffs\n",
    "# Things that are \"True\" are kept\n",
    "keepMask  = (dualImgCats[475]['MAG_APER_AB'] > MAG_CUTS[475])\n",
    "keepMask &= (dualImgCats[814]['MAG_APER_AB'] > MAG_CUTS[814])"
   ]
  },
  {
   "cell_type": "code",
   "execution_count": null,
   "id": "7ded05de",
   "metadata": {},
   "outputs": [],
   "source": [
    "# Set the Color Cutoffs\n",
    "COLOR_CUTS = {\n",
    "    275-475: (2.24 + 0.66) * u.mag,\n",
    "    475-814:  2.00        * u.mag\n",
    "}\n",
    "\n",
    "# Apply the Color Cutoffs\n",
    "color = dualImgCats[475]['MAG_APER_AB'] - dualImgCats[814]['MAG_APER_AB']\n",
    "keepMask &= (color < COLOR_CUTS[475-814])\n",
    "color = dualImgCats[275]['MAG_APER_AB'] - dualImgCats[475]['MAG_APER_AB']\n",
    "keepMask &= (color < COLOR_CUTS[275-475])"
   ]
  },
  {
   "cell_type": "code",
   "execution_count": null,
   "id": "db7032fb",
   "metadata": {},
   "outputs": [],
   "source": [
    "# Some Valid Galaxy Sources get removed above\n",
    "# This set of lines adds those sources back to the keepMask\n",
    "idx, sep, _ = srcCrds.match_to_catalog_sky(VALID_GALAXY_COORDS)\n",
    "keepMask |= (sep < (10*u.pix))"
   ]
  },
  {
   "cell_type": "code",
   "execution_count": null,
   "id": "c55f76b5",
   "metadata": {},
   "outputs": [],
   "source": [
    "# We also want to keep any sources that are inside H2 Regions\n",
    "# The sun-HII-img.reg file called below matches the regions used in the paper\n",
    "# (eso137_001_HII_region.reg). I use the Image coords file so I dont have to\n",
    "# switch between WCSs\n",
    "h2Regs = regions.Regions.read(OLD_REG_DIR / 'eso137_001_HII_region.reg')\n",
    "for reg in h2Regs:\n",
    "    keepMask |= reg.contains(srcCrds, NEW_WCS)"
   ]
  },
  {
   "cell_type": "code",
   "execution_count": null,
   "id": "ae343e90",
   "metadata": {},
   "outputs": [],
   "source": [
    "# Adding Back the HII regions is over-generous. This removes some of the\n",
    "# stars in the HII regions.\n",
    "h2StarsRegs = regions.Regions.read(OLD_REG_DIR / 'H2-Exceptions-img.reg')\n",
    "srcCrdsPix = regions.PixCoord.from_sky(srcCrds, NEW_WCS)\n",
    "for reg in h2StarsRegs:\n",
    "    keepMask &= ~reg.contains(srcCrdsPix)"
   ]
  },
  {
   "cell_type": "code",
   "execution_count": null,
   "id": "17e70768",
   "metadata": {},
   "outputs": [],
   "source": [
    "# Finally Apply the Mask\n",
    "srcCrds = srcCrds[keepMask]\n",
    "dualImgCats = {filt: cat[keepMask] for filt, cat in dualImgCats.items()}"
   ]
  },
  {
   "cell_type": "markdown",
   "id": "c23ecd19",
   "metadata": {},
   "source": [
    "### Remove Sources High/Bad Error Sources\n",
    "\n",
    "Any sources that have error > 1 mag or NaN error are removed."
   ]
  },
  {
   "cell_type": "code",
   "execution_count": null,
   "id": "519ba380",
   "metadata": {},
   "outputs": [],
   "source": [
    "# Max Error\n",
    "MAX_ERROR = 1 << u.mag\n",
    "\n",
    "# Get the New Mask\n",
    "keepMask  = (dualImgCats[275]['MAGERR_APER_AB'] <= MAX_ERROR)\n",
    "keepMask &= (dualImgCats[475]['MAGERR_APER_AB'] <= MAX_ERROR)\n",
    "keepMask &= (dualImgCats[814]['MAGERR_APER_AB'] <= MAX_ERROR)\n",
    "\n",
    "# Apply the Mask\n",
    "srcCrds = srcCrds[keepMask]\n",
    "dualImgCats = {filt: cat[keepMask] for filt, cat in dualImgCats.items()}"
   ]
  },
  {
   "cell_type": "markdown",
   "id": "b50bdd60",
   "metadata": {},
   "source": [
    "### Fix SExtractor Sorting Issues\n",
    "\n",
    "For some reason, in dual image mode, sources do not get put in the same place\n",
    "in the catalog as expected. This just seeks to reorganize the catalogs if needed."
   ]
  },
  {
   "cell_type": "code",
   "execution_count": null,
   "id": "96b6bdd9",
   "metadata": {},
   "outputs": [],
   "source": [
    "# Loop through Filters\n",
    "keepMask   = np.ones_like(srcCrds, dtype=bool)\n",
    "properSort = np.arange(len(srcCrds))\n",
    "for filt, cat in dualImgCats.items():\n",
    "\n",
    "    # Skip F475W\n",
    "    if filt == 475:\n",
    "        continue\n",
    "\n",
    "    # Get the Coords for the Other Filter\n",
    "    crds = SkyCoord(\n",
    "        ra=cat['X_WORLD'],\n",
    "        dec=cat['Y_WORLD'],\n",
    "        frame='fk5'\n",
    "    )\n",
    "\n",
    "    # Match the Coords to the F475W Coords\n",
    "    idxOther, sep, _ = srcCrds.match_to_catalog_sky(crds)\n",
    "\n",
    "    # Drop the Affected Indices if Not Sorted\n",
    "    if not is_sorted_no_repeats(idxOther):\n",
    "        keepMask &= (idxOther == properSort)\n",
    "\n",
    "    # Drop Sources with Large Separation\n",
    "    SORT_SEP = 0.1 * u.arcsec\n",
    "    keepMask &= (sep < SORT_SEP)\n",
    "\n",
    "# Drop the Badly Sorted Sources\n",
    "srcCrds = srcCrds[keepMask]\n",
    "dualImgCats = {filt: cat[keepMask] for filt, cat in dualImgCats.items()}"
   ]
  },
  {
   "cell_type": "markdown",
   "id": "9a290831",
   "metadata": {},
   "source": [
    "### Only Keep HII Region Sources"
   ]
  },
  {
   "cell_type": "code",
   "execution_count": null,
   "id": "1e788f6e",
   "metadata": {},
   "outputs": [],
   "source": [
    "# Assume None are in the HII Regions\n",
    "keepMask = np.zeros_like(srcCrds, dtype=bool)\n",
    "h2Regs = regions.Regions.read(OLD_REG_DIR / 'eso137_001_HII_region.reg')\n",
    "for reg in h2Regs:\n",
    "    keepMask |= reg.contains(srcCrds, NEW_WCS)\n",
    "\n",
    "# Only Keep HII Region Sources\n",
    "srcCrds = srcCrds[keepMask]\n",
    "dualImgCats = {filt: cat[keepMask] for filt, cat in dualImgCats.items()}"
   ]
  },
  {
   "cell_type": "markdown",
   "id": "9b5f0ded",
   "metadata": {},
   "source": [
    "## Calculations"
   ]
  },
  {
   "cell_type": "markdown",
   "id": "e66baa0b",
   "metadata": {},
   "source": [
    "### Extinction"
   ]
  },
  {
   "cell_type": "code",
   "execution_count": null,
   "id": "343252e9",
   "metadata": {},
   "outputs": [],
   "source": [
    "# Setup the Mag Reddening\n",
    "A_v = CORRECTION_FACTOR*unc.normal(\n",
    "    museTable['Av'], std=museTable['Av_err'],\n",
    "    n_samples=N_SAMPLES\n",
    ") << u.mag\n",
    "\n",
    "# Get the Extinction Based on the Reddening\n",
    "RVP = 4.05\n",
    "# RVP = 3.10\n",
    "ebv = A_v/cal00(0.551, rvp=RVP)[0]\n",
    "\n",
    "# Get the Magnitude Reddening in Each Filter\n",
    "red, medRed = {}, {}\n",
    "_, red[275] = cal00(0.275, ebv, rvp=RVP)\n",
    "_, red[475] = cal00(0.475, ebv, rvp=RVP)\n",
    "_, red[814] = cal00(0.814, ebv, rvp=RVP)"
   ]
  },
  {
   "cell_type": "markdown",
   "id": "7e96e2ca",
   "metadata": {},
   "source": [
    "### Get the ESO Mags and Colors"
   ]
  },
  {
   "cell_type": "code",
   "execution_count": null,
   "id": "10390b48",
   "metadata": {},
   "outputs": [],
   "source": [
    "# Get the Mags\n",
    "esoMags = {\n",
    "    filt: unc.normal(\n",
    "        cat['MAG_APER_AB'],\n",
    "        std=cat['MAGERR_APER_AB'],\n",
    "        n_samples=N_SAMPLES\n",
    "    )\n",
    "    for filt, cat in dualImgCats.items()\n",
    "}"
   ]
  },
  {
   "cell_type": "code",
   "execution_count": null,
   "id": "7052407a",
   "metadata": {},
   "outputs": [],
   "source": [
    "# Apply Reddening based on MUSE\n",
    "idx, _, _ = srcCrds.match_to_catalog_sky(museCrd)\n",
    "\n",
    "# Setup Extinction\n",
    "r2, r4, r8 = red[275][idx], red[475][idx], red[814][idx]\n",
    "\n",
    "# Mags\n",
    "esoX = (esoMags[275] - esoMags[475]) - (r2 - r4)\n",
    "esoY = (esoMags[475] - esoMags[814]) - (r4 - r8)"
   ]
  },
  {
   "cell_type": "code",
   "execution_count": null,
   "id": "4a03f61e",
   "metadata": {},
   "outputs": [],
   "source": [
    "# Get the Track Color Info\n",
    "trkX = trkMags[275] - trkMags[475]\n",
    "trkY = trkMags[475] - trkMags[814]\n",
    "\n",
    "# Interpolate the Tracks\n",
    "trk4 = interp1d(model.years, trkMags[475], kind='linear')(yrs)  << u.mag\n",
    "trkX = interp1d(model.years, trkX, kind='linear')(yrs)          << u.mag\n",
    "trkY = interp1d(model.years, trkY, kind='linear')(yrs)          << u.mag"
   ]
  },
  {
   "cell_type": "markdown",
   "id": "ef9f039e",
   "metadata": {},
   "source": [
    "### Estimate the Age"
   ]
  },
  {
   "cell_type": "code",
   "execution_count": null,
   "id": "5c4b5dc0",
   "metadata": {},
   "outputs": [],
   "source": [
    "# Get the Age Estimates\n",
    "ageInds, ageEsts = unc_euclidean_inds(esoX.value, esoY.value, trkX.value, trkY.value, yrs)"
   ]
  },
  {
   "cell_type": "code",
   "execution_count": null,
   "id": "84b5b3aa",
   "metadata": {},
   "outputs": [],
   "source": [
    "# Get the Mass Estimates\n",
    "trkMag = trk4[ageInds]\n",
    "\n",
    "# Get Match\n",
    "ind, sep, _ = srcCrds.match_to_catalog_sky(museCrd)\n",
    "\n",
    "# Setup Extinction\n",
    "r4 = red[475][ind]\n",
    "\n",
    "# Get the Mag Offset\n",
    "# Note that the track mag is 10^6 solar mag\n",
    "magOffset = (esoMags[475] - r4).distribution - trkMag\n",
    "\n",
    "# Get the Mass Est\n",
    "massEsts = unc.Distribution(10**(6 - magOffset.value/2.5)) * u.Msun"
   ]
  }
 ],
 "metadata": {
  "kernelspec": {
   "display_name": "stenv",
   "language": "python",
   "name": "python3"
  },
  "language_info": {
   "codemirror_mode": {
    "name": "ipython",
    "version": 3
   },
   "file_extension": ".py",
   "mimetype": "text/x-python",
   "name": "python",
   "nbconvert_exporter": "python",
   "pygments_lexer": "ipython3",
   "version": "3.12.7"
  }
 },
 "nbformat": 4,
 "nbformat_minor": 5
}
